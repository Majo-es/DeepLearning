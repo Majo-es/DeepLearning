{
  "nbformat": 4,
  "nbformat_minor": 0,
  "metadata": {
    "colab": {
      "provenance": [],
      "collapsed_sections": [
        "0KZXcZ-EmC6b"
      ]
    },
    "kernelspec": {
      "name": "python3",
      "display_name": "Python 3"
    },
    "language_info": {
      "name": "python"
    }
  },
  "cells": [
    {
      "cell_type": "markdown",
      "source": [
        "# Instalación de dependencias y Configuración de API Key"
      ],
      "metadata": {
        "id": "nYOOBleh_u7l"
      }
    },
    {
      "cell_type": "markdown",
      "source": [
        "1. Ve a [https://aistudio.google.com/](https://aistudio.google.com/) y sigue las instrucciones para generar un API Key\n",
        "\n",
        "2. Configura tu API key en Colab: en el menú de la izquierda, clicka en la llave > Claves de API de Gemini > Importar desde Google AI Studio"
      ],
      "metadata": {
        "id": "GfKsh38-gIfd"
      }
    },
    {
      "cell_type": "code",
      "source": [
        "# Instalamos las dependencias necesarias\n",
        "!pip install gradio google-genai"
      ],
      "metadata": {
        "colab": {
          "base_uri": "https://localhost:8080/"
        },
        "id": "OPUwaSA1VW6a",
        "outputId": "a3931dcf-41d2-4df7-8286-1caa8765cd7a",
        "collapsed": true
      },
      "execution_count": 8,
      "outputs": [
        {
          "output_type": "stream",
          "name": "stdout",
          "text": [
            "Collecting gradio\n",
            "  Using cached gradio-5.20.1-py3-none-any.whl.metadata (16 kB)\n",
            "Requirement already satisfied: google-genai in /usr/local/lib/python3.11/dist-packages (1.4.0)\n",
            "Collecting aiofiles<24.0,>=22.0 (from gradio)\n",
            "  Using cached aiofiles-23.2.1-py3-none-any.whl.metadata (9.7 kB)\n",
            "Requirement already satisfied: anyio<5.0,>=3.0 in /usr/local/lib/python3.11/dist-packages (from gradio) (3.7.1)\n",
            "Collecting fastapi<1.0,>=0.115.2 (from gradio)\n",
            "  Using cached fastapi-0.115.11-py3-none-any.whl.metadata (27 kB)\n",
            "Collecting ffmpy (from gradio)\n",
            "  Using cached ffmpy-0.5.0-py3-none-any.whl.metadata (3.0 kB)\n",
            "Collecting gradio-client==1.7.2 (from gradio)\n",
            "  Using cached gradio_client-1.7.2-py3-none-any.whl.metadata (7.1 kB)\n",
            "Collecting groovy~=0.1 (from gradio)\n",
            "  Using cached groovy-0.1.2-py3-none-any.whl.metadata (6.1 kB)\n",
            "Requirement already satisfied: httpx>=0.24.1 in /usr/local/lib/python3.11/dist-packages (from gradio) (0.28.1)\n",
            "Requirement already satisfied: huggingface-hub>=0.28.1 in /usr/local/lib/python3.11/dist-packages (from gradio) (0.28.1)\n",
            "Requirement already satisfied: jinja2<4.0 in /usr/local/lib/python3.11/dist-packages (from gradio) (3.1.6)\n",
            "Collecting markupsafe~=2.0 (from gradio)\n",
            "  Using cached MarkupSafe-2.1.5-cp311-cp311-manylinux_2_17_x86_64.manylinux2014_x86_64.whl.metadata (3.0 kB)\n",
            "Requirement already satisfied: numpy<3.0,>=1.0 in /usr/local/lib/python3.11/dist-packages (from gradio) (1.26.4)\n",
            "Requirement already satisfied: orjson~=3.0 in /usr/local/lib/python3.11/dist-packages (from gradio) (3.10.15)\n",
            "Requirement already satisfied: packaging in /usr/local/lib/python3.11/dist-packages (from gradio) (24.2)\n",
            "Requirement already satisfied: pandas<3.0,>=1.0 in /usr/local/lib/python3.11/dist-packages (from gradio) (2.2.2)\n",
            "Requirement already satisfied: pillow<12.0,>=8.0 in /usr/local/lib/python3.11/dist-packages (from gradio) (11.1.0)\n",
            "Requirement already satisfied: pydantic>=2.0 in /usr/local/lib/python3.11/dist-packages (from gradio) (2.10.6)\n",
            "Collecting pydub (from gradio)\n",
            "  Using cached pydub-0.25.1-py2.py3-none-any.whl.metadata (1.4 kB)\n",
            "Collecting python-multipart>=0.0.18 (from gradio)\n",
            "  Using cached python_multipart-0.0.20-py3-none-any.whl.metadata (1.8 kB)\n",
            "Requirement already satisfied: pyyaml<7.0,>=5.0 in /usr/local/lib/python3.11/dist-packages (from gradio) (6.0.2)\n",
            "Collecting ruff>=0.9.3 (from gradio)\n",
            "  Using cached ruff-0.9.10-py3-none-manylinux_2_17_x86_64.manylinux2014_x86_64.whl.metadata (25 kB)\n",
            "Collecting safehttpx<0.2.0,>=0.1.6 (from gradio)\n",
            "  Using cached safehttpx-0.1.6-py3-none-any.whl.metadata (4.2 kB)\n",
            "Collecting semantic-version~=2.0 (from gradio)\n",
            "  Using cached semantic_version-2.10.0-py2.py3-none-any.whl.metadata (9.7 kB)\n",
            "Collecting starlette<1.0,>=0.40.0 (from gradio)\n",
            "  Using cached starlette-0.46.1-py3-none-any.whl.metadata (6.2 kB)\n",
            "Collecting tomlkit<0.14.0,>=0.12.0 (from gradio)\n",
            "  Using cached tomlkit-0.13.2-py3-none-any.whl.metadata (2.7 kB)\n",
            "Requirement already satisfied: typer<1.0,>=0.12 in /usr/local/lib/python3.11/dist-packages (from gradio) (0.15.2)\n",
            "Requirement already satisfied: typing-extensions~=4.0 in /usr/local/lib/python3.11/dist-packages (from gradio) (4.12.2)\n",
            "Collecting uvicorn>=0.14.0 (from gradio)\n",
            "  Using cached uvicorn-0.34.0-py3-none-any.whl.metadata (6.5 kB)\n",
            "Requirement already satisfied: fsspec in /usr/local/lib/python3.11/dist-packages (from gradio-client==1.7.2->gradio) (2024.10.0)\n",
            "Requirement already satisfied: websockets<16.0,>=10.0 in /usr/local/lib/python3.11/dist-packages (from gradio-client==1.7.2->gradio) (14.2)\n",
            "Requirement already satisfied: google-auth<3.0.0dev,>=2.14.1 in /usr/local/lib/python3.11/dist-packages (from google-genai) (2.38.0)\n",
            "Requirement already satisfied: requests<3.0.0dev,>=2.28.1 in /usr/local/lib/python3.11/dist-packages (from google-genai) (2.32.3)\n",
            "Requirement already satisfied: idna>=2.8 in /usr/local/lib/python3.11/dist-packages (from anyio<5.0,>=3.0->gradio) (3.10)\n",
            "Requirement already satisfied: sniffio>=1.1 in /usr/local/lib/python3.11/dist-packages (from anyio<5.0,>=3.0->gradio) (1.3.1)\n",
            "Requirement already satisfied: cachetools<6.0,>=2.0.0 in /usr/local/lib/python3.11/dist-packages (from google-auth<3.0.0dev,>=2.14.1->google-genai) (5.5.2)\n",
            "Requirement already satisfied: pyasn1-modules>=0.2.1 in /usr/local/lib/python3.11/dist-packages (from google-auth<3.0.0dev,>=2.14.1->google-genai) (0.4.1)\n",
            "Requirement already satisfied: rsa<5,>=3.1.4 in /usr/local/lib/python3.11/dist-packages (from google-auth<3.0.0dev,>=2.14.1->google-genai) (4.9)\n",
            "Requirement already satisfied: certifi in /usr/local/lib/python3.11/dist-packages (from httpx>=0.24.1->gradio) (2025.1.31)\n",
            "Requirement already satisfied: httpcore==1.* in /usr/local/lib/python3.11/dist-packages (from httpx>=0.24.1->gradio) (1.0.7)\n",
            "Requirement already satisfied: h11<0.15,>=0.13 in /usr/local/lib/python3.11/dist-packages (from httpcore==1.*->httpx>=0.24.1->gradio) (0.14.0)\n",
            "Requirement already satisfied: filelock in /usr/local/lib/python3.11/dist-packages (from huggingface-hub>=0.28.1->gradio) (3.17.0)\n",
            "Requirement already satisfied: tqdm>=4.42.1 in /usr/local/lib/python3.11/dist-packages (from huggingface-hub>=0.28.1->gradio) (4.67.1)\n",
            "Requirement already satisfied: python-dateutil>=2.8.2 in /usr/local/lib/python3.11/dist-packages (from pandas<3.0,>=1.0->gradio) (2.8.2)\n",
            "Requirement already satisfied: pytz>=2020.1 in /usr/local/lib/python3.11/dist-packages (from pandas<3.0,>=1.0->gradio) (2025.1)\n",
            "Requirement already satisfied: tzdata>=2022.7 in /usr/local/lib/python3.11/dist-packages (from pandas<3.0,>=1.0->gradio) (2025.1)\n",
            "Requirement already satisfied: annotated-types>=0.6.0 in /usr/local/lib/python3.11/dist-packages (from pydantic>=2.0->gradio) (0.7.0)\n",
            "Requirement already satisfied: pydantic-core==2.27.2 in /usr/local/lib/python3.11/dist-packages (from pydantic>=2.0->gradio) (2.27.2)\n",
            "Requirement already satisfied: charset-normalizer<4,>=2 in /usr/local/lib/python3.11/dist-packages (from requests<3.0.0dev,>=2.28.1->google-genai) (3.4.1)\n",
            "Requirement already satisfied: urllib3<3,>=1.21.1 in /usr/local/lib/python3.11/dist-packages (from requests<3.0.0dev,>=2.28.1->google-genai) (2.3.0)\n",
            "Requirement already satisfied: click>=8.0.0 in /usr/local/lib/python3.11/dist-packages (from typer<1.0,>=0.12->gradio) (8.1.8)\n",
            "Requirement already satisfied: shellingham>=1.3.0 in /usr/local/lib/python3.11/dist-packages (from typer<1.0,>=0.12->gradio) (1.5.4)\n",
            "Requirement already satisfied: rich>=10.11.0 in /usr/local/lib/python3.11/dist-packages (from typer<1.0,>=0.12->gradio) (13.9.4)\n",
            "Requirement already satisfied: pyasn1<0.7.0,>=0.4.6 in /usr/local/lib/python3.11/dist-packages (from pyasn1-modules>=0.2.1->google-auth<3.0.0dev,>=2.14.1->google-genai) (0.6.1)\n",
            "Requirement already satisfied: six>=1.5 in /usr/local/lib/python3.11/dist-packages (from python-dateutil>=2.8.2->pandas<3.0,>=1.0->gradio) (1.17.0)\n",
            "Requirement already satisfied: markdown-it-py>=2.2.0 in /usr/local/lib/python3.11/dist-packages (from rich>=10.11.0->typer<1.0,>=0.12->gradio) (3.0.0)\n",
            "Requirement already satisfied: pygments<3.0.0,>=2.13.0 in /usr/local/lib/python3.11/dist-packages (from rich>=10.11.0->typer<1.0,>=0.12->gradio) (2.18.0)\n",
            "Requirement already satisfied: mdurl~=0.1 in /usr/local/lib/python3.11/dist-packages (from markdown-it-py>=2.2.0->rich>=10.11.0->typer<1.0,>=0.12->gradio) (0.1.2)\n",
            "Downloading gradio-5.20.1-py3-none-any.whl (62.3 MB)\n",
            "\u001b[2K   \u001b[90m━━━━━━━━━━━━━━━━━━━━━━━━━━━━━━━━━━━━━━━━\u001b[0m \u001b[32m62.3/62.3 MB\u001b[0m \u001b[31m9.7 MB/s\u001b[0m eta \u001b[36m0:00:00\u001b[0m\n",
            "\u001b[?25hUsing cached gradio_client-1.7.2-py3-none-any.whl (322 kB)\n",
            "Using cached aiofiles-23.2.1-py3-none-any.whl (15 kB)\n",
            "Using cached fastapi-0.115.11-py3-none-any.whl (94 kB)\n",
            "Using cached groovy-0.1.2-py3-none-any.whl (14 kB)\n",
            "Using cached MarkupSafe-2.1.5-cp311-cp311-manylinux_2_17_x86_64.manylinux2014_x86_64.whl (28 kB)\n",
            "Using cached python_multipart-0.0.20-py3-none-any.whl (24 kB)\n",
            "Using cached ruff-0.9.10-py3-none-manylinux_2_17_x86_64.manylinux2014_x86_64.whl (11.3 MB)\n",
            "Using cached safehttpx-0.1.6-py3-none-any.whl (8.7 kB)\n",
            "Using cached semantic_version-2.10.0-py2.py3-none-any.whl (15 kB)\n",
            "Using cached starlette-0.46.1-py3-none-any.whl (71 kB)\n",
            "Using cached tomlkit-0.13.2-py3-none-any.whl (37 kB)\n",
            "Using cached uvicorn-0.34.0-py3-none-any.whl (62 kB)\n",
            "Using cached ffmpy-0.5.0-py3-none-any.whl (6.0 kB)\n",
            "Using cached pydub-0.25.1-py2.py3-none-any.whl (32 kB)\n",
            "Installing collected packages: pydub, uvicorn, tomlkit, semantic-version, ruff, python-multipart, markupsafe, groovy, ffmpy, aiofiles, starlette, safehttpx, gradio-client, fastapi, gradio\n",
            "  Attempting uninstall: markupsafe\n",
            "    Found existing installation: MarkupSafe 3.0.2\n",
            "    Uninstalling MarkupSafe-3.0.2:\n",
            "      Successfully uninstalled MarkupSafe-3.0.2\n",
            "\u001b[31mERROR: pip's dependency resolver does not currently take into account all the packages that are installed. This behaviour is the source of the following dependency conflicts.\n",
            "torch 2.5.1+cu124 requires nvidia-cublas-cu12==12.4.5.8; platform_system == \"Linux\" and platform_machine == \"x86_64\", but you have nvidia-cublas-cu12 12.5.3.2 which is incompatible.\n",
            "torch 2.5.1+cu124 requires nvidia-cuda-cupti-cu12==12.4.127; platform_system == \"Linux\" and platform_machine == \"x86_64\", but you have nvidia-cuda-cupti-cu12 12.5.82 which is incompatible.\n",
            "torch 2.5.1+cu124 requires nvidia-cuda-nvrtc-cu12==12.4.127; platform_system == \"Linux\" and platform_machine == \"x86_64\", but you have nvidia-cuda-nvrtc-cu12 12.5.82 which is incompatible.\n",
            "torch 2.5.1+cu124 requires nvidia-cuda-runtime-cu12==12.4.127; platform_system == \"Linux\" and platform_machine == \"x86_64\", but you have nvidia-cuda-runtime-cu12 12.5.82 which is incompatible.\n",
            "torch 2.5.1+cu124 requires nvidia-cudnn-cu12==9.1.0.70; platform_system == \"Linux\" and platform_machine == \"x86_64\", but you have nvidia-cudnn-cu12 9.3.0.75 which is incompatible.\n",
            "torch 2.5.1+cu124 requires nvidia-cufft-cu12==11.2.1.3; platform_system == \"Linux\" and platform_machine == \"x86_64\", but you have nvidia-cufft-cu12 11.2.3.61 which is incompatible.\n",
            "torch 2.5.1+cu124 requires nvidia-curand-cu12==10.3.5.147; platform_system == \"Linux\" and platform_machine == \"x86_64\", but you have nvidia-curand-cu12 10.3.6.82 which is incompatible.\n",
            "torch 2.5.1+cu124 requires nvidia-cusolver-cu12==11.6.1.9; platform_system == \"Linux\" and platform_machine == \"x86_64\", but you have nvidia-cusolver-cu12 11.6.3.83 which is incompatible.\n",
            "torch 2.5.1+cu124 requires nvidia-cusparse-cu12==12.3.1.170; platform_system == \"Linux\" and platform_machine == \"x86_64\", but you have nvidia-cusparse-cu12 12.5.1.3 which is incompatible.\n",
            "torch 2.5.1+cu124 requires nvidia-nvjitlink-cu12==12.4.127; platform_system == \"Linux\" and platform_machine == \"x86_64\", but you have nvidia-nvjitlink-cu12 12.5.82 which is incompatible.\u001b[0m\u001b[31m\n",
            "\u001b[0mSuccessfully installed aiofiles-23.2.1 fastapi-0.115.11 ffmpy-0.5.0 gradio-5.20.1 gradio-client-1.7.2 groovy-0.1.2 markupsafe-2.1.5 pydub-0.25.1 python-multipart-0.0.20 ruff-0.9.10 safehttpx-0.1.6 semantic-version-2.10.0 starlette-0.46.1 tomlkit-0.13.2 uvicorn-0.34.0\n"
          ]
        }
      ]
    },
    {
      "cell_type": "markdown",
      "source": [
        "# Parte 1 - Genera nombres de empresa con Gemini"
      ],
      "metadata": {
        "id": "yLiN0diZMplp"
      }
    },
    {
      "cell_type": "markdown",
      "source": [
        "1. Inicializa el cliente para usar modelos de lenguaje gemini\n",
        "\n",
        "2. Prueba a una generación cualquiera\n",
        "\n",
        "  ```\n",
        "  prompt = \"Como estás?\"\n",
        "  result = generate_text(prompt)\n",
        "  print(result)\n",
        "  ```\n",
        "\n",
        "3. Crea un prompt para generar nombres de empresa genéricos\n",
        "\n",
        "4. Crea un prompt template para generar nombres de empresa según el producto que venden. Usa la funcionalidad de string templates de python:\n",
        "\n",
        "  ```\n",
        "  template = \"Hola, mi nombre es {nombre} y tengo {edad} años.\"\n",
        "  mensaje = template.format(nombre=\"Carlos\", edad=25)\n",
        "\n",
        "  print(mensaje)\n",
        "```\n",
        "\n"
      ],
      "metadata": {
        "id": "MUjiN3OHk4En"
      }
    },
    {
      "cell_type": "code",
      "source": [
        "from google.colab import userdata\n",
        "from google import genai\n",
        "from google.genai import types\n",
        "\n",
        "client = genai.Client(\n",
        "    api_key=userdata.get(\"GOOGLE_API_KEY\"),\n",
        ")\n",
        "\n",
        "def generate_text(user_prompt):\n",
        "  response = client.models.generate_content(\n",
        "      model=\"gemini-2.0-flash\",\n",
        "      contents=types.Content(\n",
        "          role=\"user\",\n",
        "          parts=[\n",
        "              types.Part.from_text(text=user_prompt),\n",
        "          ],\n",
        "      ),\n",
        "  )\n",
        "  return response.text"
      ],
      "metadata": {
        "id": "b-I3HnCKiclC"
      },
      "execution_count": 9,
      "outputs": []
    },
    {
      "cell_type": "code",
      "source": [
        "# 2\n",
        "prompt = \"Como estás?\"\n",
        "result = generate_text(prompt)\n",
        "print(result)"
      ],
      "metadata": {
        "id": "awXK3UekjgT6",
        "colab": {
          "base_uri": "https://localhost:8080/"
        },
        "outputId": "e2d946b5-21cb-44ef-bd81-0f05aac407eb"
      },
      "execution_count": 3,
      "outputs": [
        {
          "output_type": "stream",
          "name": "stdout",
          "text": [
            "Como um modelo de linguagem, não tenho sentimentos, então não posso dizer que estou \"bem\" ou \"mal\". Estou aqui para te ajudar! Em que posso ser útil hoje?\n",
            "\n"
          ]
        }
      ]
    },
    {
      "cell_type": "code",
      "source": [
        "# 3\n",
        "template = \"Generar nombres de Empresa genéricos\"\n",
        "list_names = generate_text(template)\n",
        "\n",
        "print(list_names)"
      ],
      "metadata": {
        "colab": {
          "base_uri": "https://localhost:8080/"
        },
        "id": "x7sF20vj0alP",
        "outputId": "ef2de291-6310-42dc-d0d3-106f38e212ed"
      },
      "execution_count": 6,
      "outputs": [
        {
          "output_type": "stream",
          "name": "stdout",
          "text": [
            "¡Claro! Aquí te dejo una lista de nombres de empresas genéricas, categorizadas para que puedas encontrar algo que se ajuste mejor a lo que buscas:\n",
            "\n",
            "**Basados en la Simpleza y la Claridad:**\n",
            "\n",
            "*   Alpha Solutions\n",
            "*   Beta Services\n",
            "*   Core Business\n",
            "*   Prime Group\n",
            "*   Summit Enterprises\n",
            "*   Apex Corporation\n",
            "*   Zenith Holdings\n",
            "*   Global Dynamics\n",
            "*   Future Trends\n",
            "*   Next Level\n",
            "\n",
            "**Con Énfasis en la Innovación y el Futuro:**\n",
            "\n",
            "*   Innovatech\n",
            "*   NexGen Solutions\n",
            "*   Evo Dynamics\n",
            "*   Quantum Leap\n",
            "*   Future Forward\n",
            "*   Synergy Innovations\n",
            "*   Vanguard Technologies\n",
            "*   New Horizons\n",
            "*   Pinnacle Innovations\n",
            "*   Velocity Growth\n",
            "\n",
            "**Con un Toque Profesional y Formal:**\n",
            "\n",
            "*   Sterling Partners\n",
            "*   Regal Associates\n",
            "*   Meridian Capital\n",
            "*   Ascendant Group\n",
            "*   Chancellor Holdings\n",
            "*   Prestige Worldwide\n",
            "*   Legacy Enterprises\n",
            "*   Citadel Investments\n",
            "*   Commonwealth Corp.\n",
            "*   Ambassador Global\n",
            "\n",
            "**Con un Enfoque en el Cliente:**\n",
            "\n",
            "*   ClientFirst\n",
            "*   ValuePlus\n",
            "*   CareCore\n",
            "*   PartnerPoint\n",
            "*   HelpHub\n",
            "*   YourSolution\n",
            "*   WeAssist\n",
            "*   Uplift Services\n",
            "*   Empower Solutions\n",
            "*   ConnectNow\n",
            "\n",
            "**Abstractos y Modernos:**\n",
            "\n",
            "*   Axiom\n",
            "*   Veridian\n",
            "*   Solstice\n",
            "*   Equinox\n",
            "*   NovaTech\n",
            "*   Orion Group\n",
            "*   Zenith\n",
            "*   Nexus Point\n",
            "*   Vivid Solutions\n",
            "*   Clarity Group\n",
            "\n",
            "**Consejos Adicionales para Elegir un Nombre:**\n",
            "\n",
            "*   **Disponibilidad:** Verifica que el nombre esté disponible como dominio web (.com, .net, etc.) y en las redes sociales.\n",
            "*   **Pronunciación:** Elige un nombre que sea fácil de pronunciar y recordar.\n",
            "*   **Significado:** Considera si el nombre tiene alguna connotación positiva o negativa.\n",
            "*   **Originalidad:** Intenta evitar nombres que sean demasiado similares a los de tus competidores.\n",
            "*   **Longitud:** Un nombre corto suele ser más fácil de recordar.\n",
            "\n",
            "Espero que esta lista te sirva de inspiración. ¡Mucha suerte con tu empresa!\n"
          ]
        }
      ]
    },
    {
      "cell_type": "code",
      "source": [
        "# 4\n",
        "template = \"Generar nombres de empresa {moda} según el producto {bolsos} que venden.\"\n",
        "list_names = generate_text(template)\n",
        "\n",
        "print(list_names)"
      ],
      "metadata": {
        "colab": {
          "base_uri": "https://localhost:8080/"
        },
        "outputId": "73746b2b-6e47-4633-9146-4f931a94d398",
        "id": "b10JMf-V1cdh"
      },
      "execution_count": 8,
      "outputs": [
        {
          "output_type": "stream",
          "name": "stdout",
          "text": [
            "¡Claro! Aquí te dejo una lista de nombres de empresas de moda, enfocados en la venta de bolsos, organizados por diferentes estilos y enfoques:\n",
            "\n",
            "**Nombres Clásicos y Sofisticados:**\n",
            "\n",
            "*   **Atelier de la Bolsa:** (Francés, \"Taller del Bolso\")\n",
            "*   **Maison du Sac:** (Francés, \"Casa del Bolso\")\n",
            "*   **Bolso & Co.**\n",
            "*   **The Bag Boutique**\n",
            "*   **Carteras Reales**\n",
            "*   **La Elegancia en tus Manos**\n",
            "*   **Legacy Bags**\n",
            "\n",
            "**Nombres Modernos y Minimalistas:**\n",
            "\n",
            "*   **Bolsa Lab**\n",
            "*   **The Bag Edit**\n",
            "*   **Carry Collective**\n",
            "*   **Bolsa Studio**\n",
            "*   **The Daily Carry**\n",
            "*   **Modern Satchel**\n",
            "*   **Bolsa Project**\n",
            "\n",
            "**Nombres Creativos y Llamativos:**\n",
            "\n",
            "*   **Bolsa Bliss**\n",
            "*   **The Bag Alchemist**\n",
            "*   **Cartera Canvas**\n",
            "*   **Embrace Bags**\n",
            "*   **Bolsa Bloom**\n",
            "*   **The Bag Narrative**\n",
            "*   **Wanderlust Bags**\n",
            "\n",
            "**Nombres que Destacan Materiales/Estilo:**\n",
            "\n",
            "*   **Cuero & Co.** (Si se especializan en cuero)\n",
            "*   **Bolsa de Lona** (Si se especializan en lona)\n",
            "*   **Minimal Bags** (Si se enfocan en diseño minimalista)\n",
            "*   **Étnico Bags** (Si se enfocan en diseños étnicos)\n",
            "*   **SilkTouch Bags** (Si venden bolsos de seda)\n",
            "*   **EcoBolsas** (Si son bolsos ecológicos)\n",
            "\n",
            "**Nombres con Enfoque en la Cliente:**\n",
            "\n",
            "*   **Tu Bolso Ideal**\n",
            "*   **The Everyday Bag**\n",
            "*   **Bolsos para Ti**\n",
            "*   **Your Style Companion**\n",
            "*   **Bolsa by You**\n",
            "*   **Carteras que Inspiran**\n",
            "\n",
            "**Consejos Adicionales:**\n",
            "\n",
            "*   **Verifica la Disponibilidad:** Asegúrate de que el nombre no esté ya registrado como marca y que el dominio web esté disponible.\n",
            "*   **Define tu Público:** Piensa en tu cliente ideal y elige un nombre que resuene con él/ella.\n",
            "*   **Considera la Longitud:** Un nombre corto y fácil de recordar es generalmente mejor.\n",
            "*   **Pide Opiniones:** Obtén feedback de amigos, familiares o incluso posibles clientes sobre tus nombres favoritos.\n",
            "\n",
            "¡Espero que esta lista te inspire y te ayude a encontrar el nombre perfecto para tu empresa de bolsos!\n",
            "\n"
          ]
        }
      ]
    },
    {
      "cell_type": "markdown",
      "source": [
        "# Parte 2 - Demo para generar nombres de empresa según producto"
      ],
      "metadata": {
        "id": "kBvK4Kc0kdl8"
      }
    },
    {
      "cell_type": "code",
      "source": [
        "import gradio as gr\n",
        "\n",
        "def names_company(product):\n",
        "  template = \"Generar nombres de empresa {moda} según el producto {ropa} que venden.\"\n",
        "  list_names = generate_text(template)\n",
        "  return list_names\n",
        "\n",
        "demo = gr.Interface(fn=names_company,\n",
        "                    inputs=\"text\",\n",
        "                    outputs=\"text\")\n",
        "\n",
        "demo.launch()"
      ],
      "metadata": {
        "id": "7wtE3IOCg5Tj",
        "colab": {
          "base_uri": "https://localhost:8080/",
          "height": 645
        },
        "outputId": "c58a7a30-4df0-4370-e42e-4473631c5db1"
      },
      "execution_count": 12,
      "outputs": [
        {
          "output_type": "stream",
          "name": "stdout",
          "text": [
            "Running Gradio in a Colab notebook requires sharing enabled. Automatically setting `share=True` (you can turn this off by setting `share=False` in `launch()` explicitly).\n",
            "\n",
            "Colab notebook detected. To show errors in colab notebook, set debug=True in launch()\n",
            "* Running on public URL: https://fa04b44963c28fc63e.gradio.live\n",
            "\n",
            "This share link expires in 72 hours. For free permanent hosting and GPU upgrades, run `gradio deploy` from the terminal in the working directory to deploy to Hugging Face Spaces (https://huggingface.co/spaces)\n"
          ]
        },
        {
          "output_type": "display_data",
          "data": {
            "text/plain": [
              "<IPython.core.display.HTML object>"
            ],
            "text/html": [
              "<div><iframe src=\"https://fa04b44963c28fc63e.gradio.live\" width=\"100%\" height=\"500\" allow=\"autoplay; camera; microphone; clipboard-read; clipboard-write;\" frameborder=\"0\" allowfullscreen></iframe></div>"
            ]
          },
          "metadata": {}
        },
        {
          "output_type": "execute_result",
          "data": {
            "text/plain": []
          },
          "metadata": {},
          "execution_count": 12
        }
      ]
    },
    {
      "cell_type": "code",
      "source": [
        "import gradio as gr\n",
        "\n",
        "def names_company(product):\n",
        "  template = \"Generar nombres de empresa {empresa} según el producto {product} que venden.\"\n",
        "  list_names = generate_text(template)\n",
        "  return list_names\n",
        "\n",
        "demo = gr.Interface(fn=names_company,\n",
        "                    inputs=\"text\",\n",
        "                    outputs=\"text\")\n",
        "\n",
        "demo.launch()"
      ],
      "metadata": {
        "colab": {
          "base_uri": "https://localhost:8080/",
          "height": 645
        },
        "id": "IOvlmC1L28Ay",
        "outputId": "7aef5773-40fb-45c0-b8dc-695435fcf792"
      },
      "execution_count": 11,
      "outputs": [
        {
          "output_type": "stream",
          "name": "stdout",
          "text": [
            "Running Gradio in a Colab notebook requires sharing enabled. Automatically setting `share=True` (you can turn this off by setting `share=False` in `launch()` explicitly).\n",
            "\n",
            "Colab notebook detected. To show errors in colab notebook, set debug=True in launch()\n",
            "* Running on public URL: https://83228db51f802840e5.gradio.live\n",
            "\n",
            "This share link expires in 72 hours. For free permanent hosting and GPU upgrades, run `gradio deploy` from the terminal in the working directory to deploy to Hugging Face Spaces (https://huggingface.co/spaces)\n"
          ]
        },
        {
          "output_type": "display_data",
          "data": {
            "text/plain": [
              "<IPython.core.display.HTML object>"
            ],
            "text/html": [
              "<div><iframe src=\"https://83228db51f802840e5.gradio.live\" width=\"100%\" height=\"500\" allow=\"autoplay; camera; microphone; clipboard-read; clipboard-write;\" frameborder=\"0\" allowfullscreen></iframe></div>"
            ]
          },
          "metadata": {}
        },
        {
          "output_type": "execute_result",
          "data": {
            "text/plain": []
          },
          "metadata": {},
          "execution_count": 11
        }
      ]
    },
    {
      "cell_type": "code",
      "source": [
        "import gradio as gr\n",
        "\n",
        "\n",
        "user_prompt_template = \"Genera un nombre creativo para una empresa que vende {producto}. Devuelve solo el nombre.\"\n",
        "\n",
        "\n",
        "# Función para generar un nombre de empresa con la API de Gemini\n",
        "def generate_company_name(producto):\n",
        "    user_prompt = user_prompt_template.format(producto=producto)\n",
        "    return generate_text(user_prompt)\n",
        "\n",
        "\n",
        "# Definir inputs y outputs\n",
        "inputs = gr.Textbox(\n",
        "    label=\"Producto\",\n",
        "    placeholder=\"Introduce el producto o servicio (ej. 'chocolate gourmet')\"\n",
        ")\n",
        "outputs = gr.Textbox(label=\"Nombre de Empresa Sugerido\")\n",
        "\n",
        "# Ejemplos en español\n",
        "examples = [\n",
        "    [\"Zapatos de lujo\"],\n",
        "    [\"Chocolate artesanal\"],\n",
        "    [\"Aplicaciones móviles\"],\n",
        "]\n",
        "\n",
        "# Interfaz con Gradio\n",
        "demo = gr.Interface(\n",
        "    fn=generate_company_name,\n",
        "    inputs=inputs,\n",
        "    outputs=outputs,\n",
        "    title=\"Generador de Nombres de Empresa con Gemini\",\n",
        "    description=\"Introduce un producto o servicio y obtendrás un nombre sugerido para tu empresa.\",\n",
        "    examples=examples\n",
        ")\n",
        "\n",
        "demo.launch()"
      ],
      "metadata": {
        "colab": {
          "base_uri": "https://localhost:8080/",
          "height": 645
        },
        "id": "adxh0x3qcUPm",
        "outputId": "730e89bb-faa4-46fc-e76f-7825afc6b1b7"
      },
      "execution_count": 10,
      "outputs": [
        {
          "output_type": "stream",
          "name": "stdout",
          "text": [
            "Running Gradio in a Colab notebook requires sharing enabled. Automatically setting `share=True` (you can turn this off by setting `share=False` in `launch()` explicitly).\n",
            "\n",
            "Colab notebook detected. To show errors in colab notebook, set debug=True in launch()\n",
            "* Running on public URL: https://dc55beab1ed1fb7581.gradio.live\n",
            "\n",
            "This share link expires in 72 hours. For free permanent hosting and GPU upgrades, run `gradio deploy` from the terminal in the working directory to deploy to Hugging Face Spaces (https://huggingface.co/spaces)\n"
          ]
        },
        {
          "output_type": "display_data",
          "data": {
            "text/plain": [
              "<IPython.core.display.HTML object>"
            ],
            "text/html": [
              "<div><iframe src=\"https://dc55beab1ed1fb7581.gradio.live\" width=\"100%\" height=\"500\" allow=\"autoplay; camera; microphone; clipboard-read; clipboard-write;\" frameborder=\"0\" allowfullscreen></iframe></div>"
            ]
          },
          "metadata": {}
        },
        {
          "output_type": "execute_result",
          "data": {
            "text/plain": []
          },
          "metadata": {},
          "execution_count": 10
        }
      ]
    },
    {
      "cell_type": "markdown",
      "source": [
        "# Parte 3 - Demo para generar nombres de empresa según producto e idioma\n",
        "\n",
        "\n",
        "\n",
        "*   Para la selección de idioma, usa ` gr.Dropdown(choices = [\"A\",\"B\"]) `\n",
        "\n"
      ],
      "metadata": {
        "id": "0KZXcZ-EmC6b"
      }
    },
    {
      "cell_type": "code",
      "source": [
        "import gradio as gr\n",
        "\n",
        "\n",
        "user_prompt_template = \"Genera un nombre creativo para una empresa que vende {producto}. Devuelve solo el nombre en {lenguaje}.\"\n",
        "\n",
        "def generate_company_name(producto, lenguaje):\n",
        "    user_prompt = user_prompt_template.format(producto=producto, lenguaje=lenguaje)\n",
        "    return generate_text(user_prompt)\n",
        "\n",
        "\n",
        "inputs = [\n",
        "    gr.Textbox(\n",
        "    label=\"Producto\",\n",
        "    placeholder=\"Introduce el producto o servicio (ej. 'chocolate gourmet')\"\n",
        "  ),\n",
        "    gr.Dropdown(\n",
        "        label=\"Idioma\",\n",
        "        choices=[\n",
        "            \"Español 🇪🇸\",\n",
        "            \"Inglés 🇬🇧\",\n",
        "            \"Francés 🇫🇷\",\n",
        "            \"Alemán 🇩🇪\",\n",
        "            \"Italiano 🇮🇹\"\n",
        "        ],\n",
        "    )\n",
        "]\n",
        "\n",
        "outputs = gr.Textbox(label=\"Nombre de Empresa Sugerido\")\n",
        "\n",
        "# Ejemplos en español\n",
        "examples = [\n",
        "    [\"Zapatos de lujo\", \"Italiano 🇮🇹\"],\n",
        "    [\"Chocolate artesanal\", \"Inglés 🇬🇧\"],\n",
        "    [\"Aplicaciones móviles\", \"Francés 🇫🇷\"],\n",
        "]\n",
        "\n",
        "# Interfaz con Gradio\n",
        "demo = gr.Interface(\n",
        "    fn=generate_company_name,\n",
        "    inputs=inputs,\n",
        "    outputs=outputs,\n",
        "    title=\"Generador de Nombres de Empresa con Gemini\",\n",
        "    description=\"Introduce un producto o servicio y obtendrás un nombre sugerido para tu empresa en el idioma seleccionado.\",\n",
        "    examples=examples\n",
        ")\n",
        "\n",
        "demo.launch()\n"
      ],
      "metadata": {
        "id": "CFSnhud5mGL5",
        "colab": {
          "base_uri": "https://localhost:8080/",
          "height": 645
        },
        "outputId": "07355d9f-0de4-4999-b1fb-abdaf6c9f04b"
      },
      "execution_count": 11,
      "outputs": [
        {
          "output_type": "stream",
          "name": "stdout",
          "text": [
            "Running Gradio in a Colab notebook requires sharing enabled. Automatically setting `share=True` (you can turn this off by setting `share=False` in `launch()` explicitly).\n",
            "\n",
            "Colab notebook detected. To show errors in colab notebook, set debug=True in launch()\n",
            "* Running on public URL: https://6093996efb8fc11df1.gradio.live\n",
            "\n",
            "This share link expires in 72 hours. For free permanent hosting and GPU upgrades, run `gradio deploy` from the terminal in the working directory to deploy to Hugging Face Spaces (https://huggingface.co/spaces)\n"
          ]
        },
        {
          "output_type": "display_data",
          "data": {
            "text/plain": [
              "<IPython.core.display.HTML object>"
            ],
            "text/html": [
              "<div><iframe src=\"https://6093996efb8fc11df1.gradio.live\" width=\"100%\" height=\"500\" allow=\"autoplay; camera; microphone; clipboard-read; clipboard-write;\" frameborder=\"0\" allowfullscreen></iframe></div>"
            ]
          },
          "metadata": {}
        },
        {
          "output_type": "execute_result",
          "data": {
            "text/plain": []
          },
          "metadata": {},
          "execution_count": 11
        }
      ]
    }
  ]
}