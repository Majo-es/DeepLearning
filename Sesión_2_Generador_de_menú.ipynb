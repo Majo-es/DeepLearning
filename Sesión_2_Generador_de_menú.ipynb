{
  "nbformat": 4,
  "nbformat_minor": 0,
  "metadata": {
    "colab": {
      "provenance": [],
      "collapsed_sections": [
        "nYOOBleh_u7l"
      ]
    },
    "kernelspec": {
      "name": "python3",
      "display_name": "Python 3"
    },
    "language_info": {
      "name": "python"
    }
  },
  "cells": [
    {
      "cell_type": "markdown",
      "source": [
        "# Instalación de dependencias y Configuración de API Key"
      ],
      "metadata": {
        "id": "nYOOBleh_u7l"
      }
    },
    {
      "cell_type": "markdown",
      "source": [
        "1. Ve a [https://aistudio.google.com/](https://aistudio.google.com/) y sigue las instrucciones para generar un API Key\n",
        "\n",
        "2. Configura tu API key en Colab: en el menú de la izquierda, clicka en la llave > Claves de API de Gemini > Importar desde Google AI Studio"
      ],
      "metadata": {
        "id": "GfKsh38-gIfd"
      }
    },
    {
      "cell_type": "code",
      "source": [
        "# Instalamos las dependencias necesarias\n",
        "!pip install gradio google-genai"
      ],
      "metadata": {
        "colab": {
          "base_uri": "https://localhost:8080/"
        },
        "id": "OPUwaSA1VW6a",
        "outputId": "fd059eec-e052-49bd-c0c7-96bd1e059a1f"
      },
      "execution_count": 6,
      "outputs": [
        {
          "output_type": "stream",
          "name": "stdout",
          "text": [
            "Collecting gradio\n",
            "  Downloading gradio-5.20.1-py3-none-any.whl.metadata (16 kB)\n",
            "Requirement already satisfied: google-genai in /usr/local/lib/python3.11/dist-packages (1.4.0)\n",
            "Collecting aiofiles<24.0,>=22.0 (from gradio)\n",
            "  Downloading aiofiles-23.2.1-py3-none-any.whl.metadata (9.7 kB)\n",
            "Requirement already satisfied: anyio<5.0,>=3.0 in /usr/local/lib/python3.11/dist-packages (from gradio) (3.7.1)\n",
            "Collecting fastapi<1.0,>=0.115.2 (from gradio)\n",
            "  Downloading fastapi-0.115.11-py3-none-any.whl.metadata (27 kB)\n",
            "Collecting ffmpy (from gradio)\n",
            "  Downloading ffmpy-0.5.0-py3-none-any.whl.metadata (3.0 kB)\n",
            "Collecting gradio-client==1.7.2 (from gradio)\n",
            "  Downloading gradio_client-1.7.2-py3-none-any.whl.metadata (7.1 kB)\n",
            "Collecting groovy~=0.1 (from gradio)\n",
            "  Downloading groovy-0.1.2-py3-none-any.whl.metadata (6.1 kB)\n",
            "Requirement already satisfied: httpx>=0.24.1 in /usr/local/lib/python3.11/dist-packages (from gradio) (0.28.1)\n",
            "Requirement already satisfied: huggingface-hub>=0.28.1 in /usr/local/lib/python3.11/dist-packages (from gradio) (0.28.1)\n",
            "Requirement already satisfied: jinja2<4.0 in /usr/local/lib/python3.11/dist-packages (from gradio) (3.1.6)\n",
            "Collecting markupsafe~=2.0 (from gradio)\n",
            "  Downloading MarkupSafe-2.1.5-cp311-cp311-manylinux_2_17_x86_64.manylinux2014_x86_64.whl.metadata (3.0 kB)\n",
            "Requirement already satisfied: numpy<3.0,>=1.0 in /usr/local/lib/python3.11/dist-packages (from gradio) (1.26.4)\n",
            "Requirement already satisfied: orjson~=3.0 in /usr/local/lib/python3.11/dist-packages (from gradio) (3.10.15)\n",
            "Requirement already satisfied: packaging in /usr/local/lib/python3.11/dist-packages (from gradio) (24.2)\n",
            "Requirement already satisfied: pandas<3.0,>=1.0 in /usr/local/lib/python3.11/dist-packages (from gradio) (2.2.2)\n",
            "Requirement already satisfied: pillow<12.0,>=8.0 in /usr/local/lib/python3.11/dist-packages (from gradio) (11.1.0)\n",
            "Requirement already satisfied: pydantic>=2.0 in /usr/local/lib/python3.11/dist-packages (from gradio) (2.10.6)\n",
            "Collecting pydub (from gradio)\n",
            "  Downloading pydub-0.25.1-py2.py3-none-any.whl.metadata (1.4 kB)\n",
            "Collecting python-multipart>=0.0.18 (from gradio)\n",
            "  Downloading python_multipart-0.0.20-py3-none-any.whl.metadata (1.8 kB)\n",
            "Requirement already satisfied: pyyaml<7.0,>=5.0 in /usr/local/lib/python3.11/dist-packages (from gradio) (6.0.2)\n",
            "Collecting ruff>=0.9.3 (from gradio)\n",
            "  Downloading ruff-0.9.10-py3-none-manylinux_2_17_x86_64.manylinux2014_x86_64.whl.metadata (25 kB)\n",
            "Collecting safehttpx<0.2.0,>=0.1.6 (from gradio)\n",
            "  Downloading safehttpx-0.1.6-py3-none-any.whl.metadata (4.2 kB)\n",
            "Collecting semantic-version~=2.0 (from gradio)\n",
            "  Downloading semantic_version-2.10.0-py2.py3-none-any.whl.metadata (9.7 kB)\n",
            "Collecting starlette<1.0,>=0.40.0 (from gradio)\n",
            "  Downloading starlette-0.46.1-py3-none-any.whl.metadata (6.2 kB)\n",
            "Collecting tomlkit<0.14.0,>=0.12.0 (from gradio)\n",
            "  Downloading tomlkit-0.13.2-py3-none-any.whl.metadata (2.7 kB)\n",
            "Requirement already satisfied: typer<1.0,>=0.12 in /usr/local/lib/python3.11/dist-packages (from gradio) (0.15.2)\n",
            "Requirement already satisfied: typing-extensions~=4.0 in /usr/local/lib/python3.11/dist-packages (from gradio) (4.12.2)\n",
            "Collecting uvicorn>=0.14.0 (from gradio)\n",
            "  Downloading uvicorn-0.34.0-py3-none-any.whl.metadata (6.5 kB)\n",
            "Requirement already satisfied: fsspec in /usr/local/lib/python3.11/dist-packages (from gradio-client==1.7.2->gradio) (2024.10.0)\n",
            "Requirement already satisfied: websockets<16.0,>=10.0 in /usr/local/lib/python3.11/dist-packages (from gradio-client==1.7.2->gradio) (14.2)\n",
            "Requirement already satisfied: google-auth<3.0.0dev,>=2.14.1 in /usr/local/lib/python3.11/dist-packages (from google-genai) (2.38.0)\n",
            "Requirement already satisfied: requests<3.0.0dev,>=2.28.1 in /usr/local/lib/python3.11/dist-packages (from google-genai) (2.32.3)\n",
            "Requirement already satisfied: idna>=2.8 in /usr/local/lib/python3.11/dist-packages (from anyio<5.0,>=3.0->gradio) (3.10)\n",
            "Requirement already satisfied: sniffio>=1.1 in /usr/local/lib/python3.11/dist-packages (from anyio<5.0,>=3.0->gradio) (1.3.1)\n",
            "Requirement already satisfied: cachetools<6.0,>=2.0.0 in /usr/local/lib/python3.11/dist-packages (from google-auth<3.0.0dev,>=2.14.1->google-genai) (5.5.2)\n",
            "Requirement already satisfied: pyasn1-modules>=0.2.1 in /usr/local/lib/python3.11/dist-packages (from google-auth<3.0.0dev,>=2.14.1->google-genai) (0.4.1)\n",
            "Requirement already satisfied: rsa<5,>=3.1.4 in /usr/local/lib/python3.11/dist-packages (from google-auth<3.0.0dev,>=2.14.1->google-genai) (4.9)\n",
            "Requirement already satisfied: certifi in /usr/local/lib/python3.11/dist-packages (from httpx>=0.24.1->gradio) (2025.1.31)\n",
            "Requirement already satisfied: httpcore==1.* in /usr/local/lib/python3.11/dist-packages (from httpx>=0.24.1->gradio) (1.0.7)\n",
            "Requirement already satisfied: h11<0.15,>=0.13 in /usr/local/lib/python3.11/dist-packages (from httpcore==1.*->httpx>=0.24.1->gradio) (0.14.0)\n",
            "Requirement already satisfied: filelock in /usr/local/lib/python3.11/dist-packages (from huggingface-hub>=0.28.1->gradio) (3.17.0)\n",
            "Requirement already satisfied: tqdm>=4.42.1 in /usr/local/lib/python3.11/dist-packages (from huggingface-hub>=0.28.1->gradio) (4.67.1)\n",
            "Requirement already satisfied: python-dateutil>=2.8.2 in /usr/local/lib/python3.11/dist-packages (from pandas<3.0,>=1.0->gradio) (2.8.2)\n",
            "Requirement already satisfied: pytz>=2020.1 in /usr/local/lib/python3.11/dist-packages (from pandas<3.0,>=1.0->gradio) (2025.1)\n",
            "Requirement already satisfied: tzdata>=2022.7 in /usr/local/lib/python3.11/dist-packages (from pandas<3.0,>=1.0->gradio) (2025.1)\n",
            "Requirement already satisfied: annotated-types>=0.6.0 in /usr/local/lib/python3.11/dist-packages (from pydantic>=2.0->gradio) (0.7.0)\n",
            "Requirement already satisfied: pydantic-core==2.27.2 in /usr/local/lib/python3.11/dist-packages (from pydantic>=2.0->gradio) (2.27.2)\n",
            "Requirement already satisfied: charset-normalizer<4,>=2 in /usr/local/lib/python3.11/dist-packages (from requests<3.0.0dev,>=2.28.1->google-genai) (3.4.1)\n",
            "Requirement already satisfied: urllib3<3,>=1.21.1 in /usr/local/lib/python3.11/dist-packages (from requests<3.0.0dev,>=2.28.1->google-genai) (2.3.0)\n",
            "Requirement already satisfied: click>=8.0.0 in /usr/local/lib/python3.11/dist-packages (from typer<1.0,>=0.12->gradio) (8.1.8)\n",
            "Requirement already satisfied: shellingham>=1.3.0 in /usr/local/lib/python3.11/dist-packages (from typer<1.0,>=0.12->gradio) (1.5.4)\n",
            "Requirement already satisfied: rich>=10.11.0 in /usr/local/lib/python3.11/dist-packages (from typer<1.0,>=0.12->gradio) (13.9.4)\n",
            "Requirement already satisfied: pyasn1<0.7.0,>=0.4.6 in /usr/local/lib/python3.11/dist-packages (from pyasn1-modules>=0.2.1->google-auth<3.0.0dev,>=2.14.1->google-genai) (0.6.1)\n",
            "Requirement already satisfied: six>=1.5 in /usr/local/lib/python3.11/dist-packages (from python-dateutil>=2.8.2->pandas<3.0,>=1.0->gradio) (1.17.0)\n",
            "Requirement already satisfied: markdown-it-py>=2.2.0 in /usr/local/lib/python3.11/dist-packages (from rich>=10.11.0->typer<1.0,>=0.12->gradio) (3.0.0)\n",
            "Requirement already satisfied: pygments<3.0.0,>=2.13.0 in /usr/local/lib/python3.11/dist-packages (from rich>=10.11.0->typer<1.0,>=0.12->gradio) (2.18.0)\n",
            "Requirement already satisfied: mdurl~=0.1 in /usr/local/lib/python3.11/dist-packages (from markdown-it-py>=2.2.0->rich>=10.11.0->typer<1.0,>=0.12->gradio) (0.1.2)\n",
            "Downloading gradio-5.20.1-py3-none-any.whl (62.3 MB)\n",
            "\u001b[2K   \u001b[90m━━━━━━━━━━━━━━━━━━━━━━━━━━━━━━━━━━━━━━━━\u001b[0m \u001b[32m62.3/62.3 MB\u001b[0m \u001b[31m12.4 MB/s\u001b[0m eta \u001b[36m0:00:00\u001b[0m\n",
            "\u001b[?25hDownloading gradio_client-1.7.2-py3-none-any.whl (322 kB)\n",
            "\u001b[2K   \u001b[90m━━━━━━━━━━━━━━━━━━━━━━━━━━━━━━━━━━━━━━━━\u001b[0m \u001b[32m322.1/322.1 kB\u001b[0m \u001b[31m19.7 MB/s\u001b[0m eta \u001b[36m0:00:00\u001b[0m\n",
            "\u001b[?25hDownloading aiofiles-23.2.1-py3-none-any.whl (15 kB)\n",
            "Downloading fastapi-0.115.11-py3-none-any.whl (94 kB)\n",
            "\u001b[2K   \u001b[90m━━━━━━━━━━━━━━━━━━━━━━━━━━━━━━━━━━━━━━━━\u001b[0m \u001b[32m94.9/94.9 kB\u001b[0m \u001b[31m7.5 MB/s\u001b[0m eta \u001b[36m0:00:00\u001b[0m\n",
            "\u001b[?25hDownloading groovy-0.1.2-py3-none-any.whl (14 kB)\n",
            "Downloading MarkupSafe-2.1.5-cp311-cp311-manylinux_2_17_x86_64.manylinux2014_x86_64.whl (28 kB)\n",
            "Downloading python_multipart-0.0.20-py3-none-any.whl (24 kB)\n",
            "Downloading ruff-0.9.10-py3-none-manylinux_2_17_x86_64.manylinux2014_x86_64.whl (11.3 MB)\n",
            "\u001b[2K   \u001b[90m━━━━━━━━━━━━━━━━━━━━━━━━━━━━━━━━━━━━━━━━\u001b[0m \u001b[32m11.3/11.3 MB\u001b[0m \u001b[31m97.6 MB/s\u001b[0m eta \u001b[36m0:00:00\u001b[0m\n",
            "\u001b[?25hDownloading safehttpx-0.1.6-py3-none-any.whl (8.7 kB)\n",
            "Downloading semantic_version-2.10.0-py2.py3-none-any.whl (15 kB)\n",
            "Downloading starlette-0.46.1-py3-none-any.whl (71 kB)\n",
            "\u001b[2K   \u001b[90m━━━━━━━━━━━━━━━━━━━━━━━━━━━━━━━━━━━━━━━━\u001b[0m \u001b[32m72.0/72.0 kB\u001b[0m \u001b[31m6.0 MB/s\u001b[0m eta \u001b[36m0:00:00\u001b[0m\n",
            "\u001b[?25hDownloading tomlkit-0.13.2-py3-none-any.whl (37 kB)\n",
            "Downloading uvicorn-0.34.0-py3-none-any.whl (62 kB)\n",
            "\u001b[2K   \u001b[90m━━━━━━━━━━━━━━━━━━━━━━━━━━━━━━━━━━━━━━━━\u001b[0m \u001b[32m62.3/62.3 kB\u001b[0m \u001b[31m5.3 MB/s\u001b[0m eta \u001b[36m0:00:00\u001b[0m\n",
            "\u001b[?25hDownloading ffmpy-0.5.0-py3-none-any.whl (6.0 kB)\n",
            "Downloading pydub-0.25.1-py2.py3-none-any.whl (32 kB)\n",
            "Installing collected packages: pydub, uvicorn, tomlkit, semantic-version, ruff, python-multipart, markupsafe, groovy, ffmpy, aiofiles, starlette, safehttpx, gradio-client, fastapi, gradio\n",
            "  Attempting uninstall: markupsafe\n",
            "    Found existing installation: MarkupSafe 3.0.2\n",
            "    Uninstalling MarkupSafe-3.0.2:\n",
            "      Successfully uninstalled MarkupSafe-3.0.2\n",
            "\u001b[31mERROR: pip's dependency resolver does not currently take into account all the packages that are installed. This behaviour is the source of the following dependency conflicts.\n",
            "torch 2.5.1+cu124 requires nvidia-cublas-cu12==12.4.5.8; platform_system == \"Linux\" and platform_machine == \"x86_64\", but you have nvidia-cublas-cu12 12.5.3.2 which is incompatible.\n",
            "torch 2.5.1+cu124 requires nvidia-cuda-cupti-cu12==12.4.127; platform_system == \"Linux\" and platform_machine == \"x86_64\", but you have nvidia-cuda-cupti-cu12 12.5.82 which is incompatible.\n",
            "torch 2.5.1+cu124 requires nvidia-cuda-nvrtc-cu12==12.4.127; platform_system == \"Linux\" and platform_machine == \"x86_64\", but you have nvidia-cuda-nvrtc-cu12 12.5.82 which is incompatible.\n",
            "torch 2.5.1+cu124 requires nvidia-cuda-runtime-cu12==12.4.127; platform_system == \"Linux\" and platform_machine == \"x86_64\", but you have nvidia-cuda-runtime-cu12 12.5.82 which is incompatible.\n",
            "torch 2.5.1+cu124 requires nvidia-cudnn-cu12==9.1.0.70; platform_system == \"Linux\" and platform_machine == \"x86_64\", but you have nvidia-cudnn-cu12 9.3.0.75 which is incompatible.\n",
            "torch 2.5.1+cu124 requires nvidia-cufft-cu12==11.2.1.3; platform_system == \"Linux\" and platform_machine == \"x86_64\", but you have nvidia-cufft-cu12 11.2.3.61 which is incompatible.\n",
            "torch 2.5.1+cu124 requires nvidia-curand-cu12==10.3.5.147; platform_system == \"Linux\" and platform_machine == \"x86_64\", but you have nvidia-curand-cu12 10.3.6.82 which is incompatible.\n",
            "torch 2.5.1+cu124 requires nvidia-cusolver-cu12==11.6.1.9; platform_system == \"Linux\" and platform_machine == \"x86_64\", but you have nvidia-cusolver-cu12 11.6.3.83 which is incompatible.\n",
            "torch 2.5.1+cu124 requires nvidia-cusparse-cu12==12.3.1.170; platform_system == \"Linux\" and platform_machine == \"x86_64\", but you have nvidia-cusparse-cu12 12.5.1.3 which is incompatible.\n",
            "torch 2.5.1+cu124 requires nvidia-nvjitlink-cu12==12.4.127; platform_system == \"Linux\" and platform_machine == \"x86_64\", but you have nvidia-nvjitlink-cu12 12.5.82 which is incompatible.\u001b[0m\u001b[31m\n",
            "\u001b[0mSuccessfully installed aiofiles-23.2.1 fastapi-0.115.11 ffmpy-0.5.0 gradio-5.20.1 gradio-client-1.7.2 groovy-0.1.2 markupsafe-2.1.5 pydub-0.25.1 python-multipart-0.0.20 ruff-0.9.10 safehttpx-0.1.6 semantic-version-2.10.0 starlette-0.46.1 tomlkit-0.13.2 uvicorn-0.34.0\n"
          ]
        }
      ]
    },
    {
      "cell_type": "markdown",
      "source": [
        "# Parte 1 - Genera menús y listas de la compra con Gemini\n",
        "\n",
        "1. Genera un menú semanal de estilo mediterráneo en formato tabla (comida y cena)\n",
        "\n",
        "\n",
        "2. Genera la lista de la compra en base al menú"
      ],
      "metadata": {
        "id": "yLiN0diZMplp"
      }
    },
    {
      "cell_type": "code",
      "source": [
        "from google.colab import userdata\n",
        "from google import genai\n",
        "from google.genai import types\n",
        "\n",
        "client = genai.Client(\n",
        "    api_key=userdata.get(\"GOOGLE_API_KEY\"),\n",
        ")\n",
        "\n",
        "def generate_text(user_prompt):\n",
        "  response = client.models.generate_content(\n",
        "      model=\"gemini-2.0-flash\",\n",
        "      contents=types.Content(\n",
        "          role=\"user\",\n",
        "          parts=[\n",
        "              types.Part.from_text(text=user_prompt),\n",
        "          ],\n",
        "      ),\n",
        "  )\n",
        "  return response.text"
      ],
      "metadata": {
        "id": "b-I3HnCKiclC"
      },
      "execution_count": 2,
      "outputs": []
    },
    {
      "cell_type": "code",
      "source": [
        "template = \"Genera un menú semanal de estilo mediterráneo en formato tabla (comida y cena)\"\n",
        "menu = generate_text(template)\n",
        "\n",
        "print(menu)"
      ],
      "metadata": {
        "id": "awXK3UekjgT6",
        "colab": {
          "base_uri": "https://localhost:8080/"
        },
        "outputId": "23c269d6-19ff-4be3-b91c-02696ba7357a"
      },
      "execution_count": 4,
      "outputs": [
        {
          "output_type": "stream",
          "name": "stdout",
          "text": [
            "¡Aquí tienes un menú semanal de estilo mediterráneo, en formato tabla, con ideas para comidas y cenas! Este menú se centra en ingredientes frescos, aceite de oliva, legumbres, pescado, frutas y verduras.\n",
            "\n",
            "**MENÚ SEMANAL MEDITERRÁNEO**\n",
            "\n",
            "| Día     | Comida                                                                                                | Cena                                                                                                  |\n",
            "|---------|--------------------------------------------------------------------------------------------------------|-------------------------------------------------------------------------------------------------------|\n",
            "| **Lunes** | Ensalada griega con pollo a la plancha (pepino, tomate, aceitunas, queso feta, cebolla roja)             | Lubina al horno con patatas asadas con hierbas y espárragos                                       |\n",
            "| **Martes**| Sopa minestrone (con verduras, pasta y alubias) + pan integral                                     | Lentejas estofadas con chorizo bajo en grasa y verduras (zanahoria, cebolla, pimiento) + ensalada verde |\n",
            "| **Miércoles**| Ensalada de garbanzos con atún, tomate, cebolla morada y pimiento rojo.                                | Salmón a la plancha con quinoa y brócoli al vapor                                                    |\n",
            "| **Jueves** | Bocadillo integral con hummus, aguacate, tomate y brotes verdes                                        | Paella de mariscos (usar arroz integral para una opción más saludable)                               |\n",
            "| **Viernes**| Revuelto de huevos con espinacas, tomate y cebolla + tostada integral con aceite de oliva y tomate rallado | Pizza casera con base integral, tomate natural, mozzarella fresca, champiñones y aceitunas                 |\n",
            "| **Sábado**| Ensalada de pasta integral con pesto, mozzarella, tomate cherry y aceitunas                             | Pinchos de pollo marinados con yogur y especias, acompañados de cuscús con pasas y almendras         |\n",
            "| **Domingo**| Gazpacho andaluz + tortilla de patata con cebolla (al horno en lugar de frita)                           | Cordero asado al limón con patatas panaderas y judías verdes                                            |\n",
            "\n",
            "**Notas:**\n",
            "\n",
            "*   **Aceite de oliva:** Utilizar aceite de oliva virgen extra para cocinar y aderezar.\n",
            "*   **Frutas y verduras:** Incluir una buena variedad de frutas y verduras en cada comida. Optar por productos de temporada.\n",
            "*   **Legumbres:** Consumir legumbres al menos dos veces por semana.\n",
            "*   **Pescado:** Priorizar el pescado azul (salmón, atún, sardinas) por sus beneficios para la salud.\n",
            "*   **Carne:** Limitar el consumo de carne roja a una o dos veces por semana.  Elegir cortes magros.\n",
            "*   **Lácteos:** Consumir lácteos con moderación (yogur, queso feta, mozzarella fresca).\n",
            "*   **Cereales:** Optar por cereales integrales (arroz integral, pasta integral, pan integral).\n",
            "*   **Snacks:** Frutas, frutos secos, yogur natural.\n",
            "*   **Bebidas:** Agua, infusiones, vino tinto (con moderación).\n",
            "*   **Variaciones:** Este menú es una guía.  Se puede adaptar a tus preferencias y necesidades dietéticas.  Sustituye ingredientes por otros similares, manteniendo los principios de la dieta mediterránea.\n",
            "\n",
            "**¡Disfruta de esta deliciosa y saludable semana mediterránea!**\n",
            "\n"
          ]
        }
      ]
    },
    {
      "cell_type": "code",
      "source": [
        "user_prompt = \"Genera un menú semanal basado en una dieta mediterránea con comida y cena. Solo devuelve la tabla de menú.\"\n",
        "\n",
        "menu_generado = generate_text(user_prompt)"
      ],
      "metadata": {
        "id": "UuAbvgWE7lkq"
      },
      "execution_count": 3,
      "outputs": []
    },
    {
      "cell_type": "code",
      "source": [
        "user_prompt_template = \"Genera la lista de la compra para este menú {menu_generado}. Devuelve solo la lista.\"\n",
        "\n",
        "user_prompt = user_prompt_template.format(menu_generado=menu_generado)\n",
        "\n",
        "print(generate_text(user_prompt))"
      ],
      "metadata": {
        "colab": {
          "base_uri": "https://localhost:8080/"
        },
        "id": "tgKTnQctitSv",
        "outputId": "3b7c6ee6-b404-4b4c-b821-f2a7a987e08b"
      },
      "execution_count": 4,
      "outputs": [
        {
          "output_type": "stream",
          "name": "stdout",
          "text": [
            "**Verduras y Hortalizas:**\n",
            "\n",
            "*   Tomates\n",
            "*   Pepino\n",
            "*   Cebolla roja\n",
            "*   Calabacín\n",
            "*   Berenjena\n",
            "*   Pimiento (varios colores)\n",
            "*   Patatas\n",
            "*   Ajo\n",
            "*   Brócoli\n",
            "*   Espárragos trigueros\n",
            "*   Calabaza\n",
            "*   Cebolla\n",
            "*  Pimientos (para brochetas y paella)\n",
            "\n",
            "**Legumbres:**\n",
            "\n",
            "*   Garbanzos (secos o en conserva)\n",
            "*   Lentejas\n",
            "\n",
            "**Pasta y Granos:**\n",
            "\n",
            "*   Pasta integral (para ensalada)\n",
            "*   Quinoa\n",
            "*   Couscous\n",
            "*   Arroz (para paella)\n",
            "\n",
            "**Proteínas:**\n",
            "\n",
            "*   Lubina\n",
            "*   Atún (en lata)\n",
            "*   Huevos\n",
            "*   Pollo (pechugas)\n",
            "*   Salmón\n",
            "*   Cordero (para brochetas)\n",
            "*   Conejo\n",
            "\n",
            "**Lácteos:**\n",
            "\n",
            "*   Mozzarella (para pizza)\n",
            "\n",
            "**Otros:**\n",
            "\n",
            "*   Aceitunas\n",
            "*   Aceite de oliva virgen extra\n",
            "*   Vinagre\n",
            "*   Sal\n",
            "*   Pimienta\n",
            "*   Especias (ajo en polvo, pimentón dulce/picante - para el conejo y otros platos)\n",
            "*   Tomate triturado (para la pizza y el gazpacho)\n",
            "*   Masa para pizza integral (o ingredientes para hacerla)\n",
            "\n",
            "**Opcional (según gusto):**\n",
            "\n",
            "*   Hierbas frescas (perejil, albahaca, etc.)\n",
            "*   Limón (para el pescado)\n",
            "\n"
          ]
        }
      ]
    },
    {
      "cell_type": "markdown",
      "source": [
        "# Parte 2 - Demo para generar menús y listas en base a las preferencias del usuario\n",
        "\n",
        "1. Crea un dropdown de tipo de dieta: \"Vegetariana\", \"Vegana\", \"Sin gluten\", \"Mediterránea\", \"Cetogénica (Keto)\"...\n",
        "\n",
        "2. Usa la componente gr.Markdown() para mostrar los outputs de forma más bonita. Pide explícitamente al modelo que la respuesta esté formateada en Markdown."
      ],
      "metadata": {
        "id": "kBvK4Kc0kdl8"
      }
    },
    {
      "cell_type": "code",
      "source": [
        "import gradio as gr\n",
        "\n",
        "\n",
        "menu_user_prompt_template = \"Genera un menú semanal basado en una dieta {preferencia} con comida y cena. Solo devuelve la tabla de menú en Markdown.\"\n",
        "\n",
        "lista_user_prompt_template = \"Genera la lista de la compra con emojis para este menú {menu_generado}. Devuelve solo la lista en Markdown.\"\n",
        "\n",
        "# Función principal que llama a ambas funciones\n",
        "def genera_menu_y_lista(preferencia):\n",
        "    menu = generate_text(menu_user_prompt_template.format(preferencia=preferencia))\n",
        "    lista = generate_text(lista_user_prompt_template.format(menu_generado=menu))\n",
        "    return menu, lista\n",
        "\n",
        "# Definir inputs y outputs\n",
        "inputs = [\n",
        "    gr.Dropdown(\n",
        "        label=\"Tipo de dieta\",\n",
        "        choices=[\n",
        "            \"Vegetariana\",\n",
        "            \"Vegana\",\n",
        "            \"Sin gluten\",\n",
        "            \"Mediterránea\",\n",
        "            \"Cetogénica (Keto)\",\n",
        "        ],\n",
        "        value=\"Vegetariana\"\n",
        "    )\n",
        "]\n",
        "\n",
        "outputs = [\n",
        "    gr.Markdown(label=\"# Menú Semanal\"),\n",
        "    gr.Markdown(label=\"# Lista de Compras\")\n",
        "]\n",
        "\n",
        "# Ejemplos\n",
        "examples = [\n",
        "    [\"Vegana\"],\n",
        "    [\"Cetogénica (Keto)\"],\n",
        "    [\"Dieta baja en grasas\"],\n",
        "]\n",
        "\n",
        "# Interfaz con Gradio\n",
        "demo = gr.Interface(\n",
        "    fn=genera_menu_y_lista,\n",
        "    inputs=inputs,\n",
        "    outputs=outputs,\n",
        "    title=\"Generador de Menú Semanal con Gemini\",\n",
        "    description=\"Selecciona una preferencia dietética para obtener un menú semanal y la lista de compras basada en el menú generado.\",\n",
        "    examples=examples\n",
        ")\n",
        "\n",
        "demo.launch()"
      ],
      "metadata": {
        "id": "7wtE3IOCg5Tj",
        "colab": {
          "base_uri": "https://localhost:8080/",
          "height": 680
        },
        "outputId": "ffb07ec8-4875-42a6-c2a9-eb8adc4c647e"
      },
      "execution_count": 7,
      "outputs": [
        {
          "output_type": "stream",
          "name": "stderr",
          "text": [
            "/usr/local/lib/python3.11/dist-packages/gradio/components/dropdown.py:226: UserWarning: The value passed into gr.Dropdown() is not in the list of choices. Please update the list of choices to include: Dieta baja en grasas or set allow_custom_value=True.\n",
            "  warnings.warn(\n"
          ]
        },
        {
          "output_type": "stream",
          "name": "stdout",
          "text": [
            "Running Gradio in a Colab notebook requires sharing enabled. Automatically setting `share=True` (you can turn this off by setting `share=False` in `launch()` explicitly).\n",
            "\n",
            "Colab notebook detected. To show errors in colab notebook, set debug=True in launch()\n",
            "* Running on public URL: https://43fc1169332614eddc.gradio.live\n",
            "\n",
            "This share link expires in 72 hours. For free permanent hosting and GPU upgrades, run `gradio deploy` from the terminal in the working directory to deploy to Hugging Face Spaces (https://huggingface.co/spaces)\n"
          ]
        },
        {
          "output_type": "display_data",
          "data": {
            "text/plain": [
              "<IPython.core.display.HTML object>"
            ],
            "text/html": [
              "<div><iframe src=\"https://43fc1169332614eddc.gradio.live\" width=\"100%\" height=\"500\" allow=\"autoplay; camera; microphone; clipboard-read; clipboard-write;\" frameborder=\"0\" allowfullscreen></iframe></div>"
            ]
          },
          "metadata": {}
        },
        {
          "output_type": "execute_result",
          "data": {
            "text/plain": []
          },
          "metadata": {},
          "execution_count": 7
        }
      ]
    }
  ]
}