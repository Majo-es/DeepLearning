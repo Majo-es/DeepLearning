{
  "nbformat": 4,
  "nbformat_minor": 0,
  "metadata": {
    "colab": {
      "provenance": []
    },
    "kernelspec": {
      "name": "python3",
      "display_name": "Python 3"
    },
    "language_info": {
      "name": "python"
    }
  },
  "cells": [
    {
      "cell_type": "markdown",
      "source": [
        "# Setup"
      ],
      "metadata": {
        "id": "SNKDDJntz30i"
      }
    },
    {
      "cell_type": "code",
      "execution_count": 1,
      "metadata": {
        "colab": {
          "base_uri": "https://localhost:8080/"
        },
        "id": "he0yzRwBYcsl",
        "outputId": "47f5b855-9186-49a2-8a1e-846e7db4849a",
        "collapsed": true
      },
      "outputs": [
        {
          "output_type": "stream",
          "name": "stdout",
          "text": [
            "Collecting openai-agents\n",
            "  Downloading openai_agents-0.0.6-py3-none-any.whl.metadata (8.0 kB)\n",
            "Collecting griffe<2,>=1.5.6 (from openai-agents)\n",
            "  Downloading griffe-1.6.2-py3-none-any.whl.metadata (5.0 kB)\n",
            "Requirement already satisfied: openai>=1.66.5 in /usr/local/lib/python3.11/dist-packages (from openai-agents) (1.66.5)\n",
            "Requirement already satisfied: pydantic<3,>=2.10 in /usr/local/lib/python3.11/dist-packages (from openai-agents) (2.10.6)\n",
            "Requirement already satisfied: requests<3,>=2.0 in /usr/local/lib/python3.11/dist-packages (from openai-agents) (2.32.3)\n",
            "Collecting types-requests<3,>=2.0 (from openai-agents)\n",
            "  Downloading types_requests-2.32.0.20250306-py3-none-any.whl.metadata (2.3 kB)\n",
            "Requirement already satisfied: typing-extensions<5,>=4.12.2 in /usr/local/lib/python3.11/dist-packages (from openai-agents) (4.12.2)\n",
            "Collecting colorama>=0.4 (from griffe<2,>=1.5.6->openai-agents)\n",
            "  Downloading colorama-0.4.6-py2.py3-none-any.whl.metadata (17 kB)\n",
            "Requirement already satisfied: anyio<5,>=3.5.0 in /usr/local/lib/python3.11/dist-packages (from openai>=1.66.5->openai-agents) (4.9.0)\n",
            "Requirement already satisfied: distro<2,>=1.7.0 in /usr/local/lib/python3.11/dist-packages (from openai>=1.66.5->openai-agents) (1.9.0)\n",
            "Requirement already satisfied: httpx<1,>=0.23.0 in /usr/local/lib/python3.11/dist-packages (from openai>=1.66.5->openai-agents) (0.28.1)\n",
            "Requirement already satisfied: jiter<1,>=0.4.0 in /usr/local/lib/python3.11/dist-packages (from openai>=1.66.5->openai-agents) (0.9.0)\n",
            "Requirement already satisfied: sniffio in /usr/local/lib/python3.11/dist-packages (from openai>=1.66.5->openai-agents) (1.3.1)\n",
            "Requirement already satisfied: tqdm>4 in /usr/local/lib/python3.11/dist-packages (from openai>=1.66.5->openai-agents) (4.67.1)\n",
            "Requirement already satisfied: annotated-types>=0.6.0 in /usr/local/lib/python3.11/dist-packages (from pydantic<3,>=2.10->openai-agents) (0.7.0)\n",
            "Requirement already satisfied: pydantic-core==2.27.2 in /usr/local/lib/python3.11/dist-packages (from pydantic<3,>=2.10->openai-agents) (2.27.2)\n",
            "Requirement already satisfied: charset-normalizer<4,>=2 in /usr/local/lib/python3.11/dist-packages (from requests<3,>=2.0->openai-agents) (3.4.1)\n",
            "Requirement already satisfied: idna<4,>=2.5 in /usr/local/lib/python3.11/dist-packages (from requests<3,>=2.0->openai-agents) (3.10)\n",
            "Requirement already satisfied: urllib3<3,>=1.21.1 in /usr/local/lib/python3.11/dist-packages (from requests<3,>=2.0->openai-agents) (2.3.0)\n",
            "Requirement already satisfied: certifi>=2017.4.17 in /usr/local/lib/python3.11/dist-packages (from requests<3,>=2.0->openai-agents) (2025.1.31)\n",
            "Requirement already satisfied: httpcore==1.* in /usr/local/lib/python3.11/dist-packages (from httpx<1,>=0.23.0->openai>=1.66.5->openai-agents) (1.0.7)\n",
            "Requirement already satisfied: h11<0.15,>=0.13 in /usr/local/lib/python3.11/dist-packages (from httpcore==1.*->httpx<1,>=0.23.0->openai>=1.66.5->openai-agents) (0.14.0)\n",
            "Downloading openai_agents-0.0.6-py3-none-any.whl (98 kB)\n",
            "\u001b[2K   \u001b[90m━━━━━━━━━━━━━━━━━━━━━━━━━━━━━━━━━━━━━━━━\u001b[0m \u001b[32m98.9/98.9 kB\u001b[0m \u001b[31m4.1 MB/s\u001b[0m eta \u001b[36m0:00:00\u001b[0m\n",
            "\u001b[?25hDownloading griffe-1.6.2-py3-none-any.whl (128 kB)\n",
            "\u001b[2K   \u001b[90m━━━━━━━━━━━━━━━━━━━━━━━━━━━━━━━━━━━━━━━━\u001b[0m \u001b[32m128.6/128.6 kB\u001b[0m \u001b[31m4.0 MB/s\u001b[0m eta \u001b[36m0:00:00\u001b[0m\n",
            "\u001b[?25hDownloading types_requests-2.32.0.20250306-py3-none-any.whl (20 kB)\n",
            "Downloading colorama-0.4.6-py2.py3-none-any.whl (25 kB)\n",
            "Installing collected packages: types-requests, colorama, griffe, openai-agents\n",
            "Successfully installed colorama-0.4.6 griffe-1.6.2 openai-agents-0.0.6 types-requests-2.32.0.20250306\n"
          ]
        }
      ],
      "source": [
        "!pip install openai-agents"
      ]
    },
    {
      "cell_type": "code",
      "source": [
        "# Helper functions\n",
        "from openai import AsyncOpenAI, OpenAI\n",
        "from agents import (\n",
        "    set_default_openai_api,\n",
        "    set_default_openai_client,\n",
        "    set_tracing_disabled\n",
        ")\n",
        "from agents.items import ToolCallItem, ToolCallOutputItem, MessageOutputItem, ItemHelpers\n",
        "from google.colab import userdata\n",
        "import nest_asyncio\n",
        "nest_asyncio.apply()\n",
        "\n",
        "# Gemini API configuration\n",
        "BASE_URL = \"https://generativelanguage.googleapis.com/v1beta/openai/\"\n",
        "API_KEY = userdata.get(\"GOOGLE_API_KEY\")\n",
        "MODEL_NAME = \"gemini-2.0-flash\"\n",
        "\n",
        "# Create a custom client for Gemini\n",
        "client = AsyncOpenAI(\n",
        "    base_url=BASE_URL,\n",
        "    api_key=API_KEY,\n",
        ")\n",
        "\n",
        "# Configure the agents library to use Gemini\n",
        "set_default_openai_client(client=client, use_for_tracing=False)\n",
        "set_default_openai_api(\"chat_completions\")\n",
        "set_tracing_disabled(disabled=True)\n",
        "\n",
        "\n",
        "def print_conversation(result):\n",
        "\n",
        "    # Print the original input if it exists\n",
        "    if hasattr(result, \"input\"):\n",
        "        print(\"Input:\", result.input)\n",
        "\n",
        "    # Iterate over each item generated during the run\n",
        "    for msg in result.new_items:\n",
        "        if isinstance(msg, ToolCallItem):\n",
        "            # Print tool call details using the raw item attributes\n",
        "            print(f\"Tool Call: {msg.raw_item.name}({msg.raw_item.arguments})\")\n",
        "        elif isinstance(msg, ToolCallOutputItem):\n",
        "            # Print tool call output\n",
        "            print(f\"Tool Output: {msg.output}\")\n",
        "        elif isinstance(msg, MessageOutputItem):\n",
        "            # Extract the text using the helper function\n",
        "            text = ItemHelpers.text_message_output(msg)\n",
        "            # Determine the role from the raw item; default to \"message\" if not provided\n",
        "            role = getattr(msg.raw_item, \"role\", \"message\").capitalize()\n",
        "            print(f\"{role}: {text.strip()}\")\n",
        "        else:\n",
        "            print(f\"Unknown message type: {msg}\")\n",
        "\n",
        "\n",
        "\n",
        "async def run_agent(agent, message):\n",
        "    result = await Runner.run(agent, message)\n",
        "    print_conversation(result)\n",
        "    return result\n",
        "\n"
      ],
      "metadata": {
        "id": "nRDi2JfJn7gs"
      },
      "execution_count": 2,
      "outputs": []
    },
    {
      "cell_type": "markdown",
      "source": [
        "# 1. Agente básico con calculadora\n",
        "\n",
        "1. Define el agente con nombre e instrucciones.\n",
        "\n",
        "1. Ejecuta el agente y pidele que haga una suma. Revisa el output del agente.\n",
        "\n",
        "2. Añade dos tools nuevas al agente, una de multiplicación y una de división.\n",
        "\n",
        "3. Pide al Agente que haga una multiplicación y una división."
      ],
      "metadata": {
        "id": "gUQ50lV1n1o2"
      }
    },
    {
      "cell_type": "code",
      "source": [
        "from agents import function_tool, Agent, Runner\n",
        "\n",
        "# Import MODEL_NAME\n",
        "from __main__ import MODEL_NAME\n",
        "\n",
        "@function_tool\n",
        "def sumar(a: int, b: int) -> str:\n",
        "    result = a + b\n",
        "    return str(result)\n",
        "\n",
        "# Definimos el Agente\n",
        "agent_matematico = Agent(\n",
        "    model=MODEL_NAME,\n",
        "    name=\"Matematico\",\n",
        "    instructions=\"Eres un calculador inteligente.\",\n",
        "    tools=[sumar],\n",
        ")"
      ],
      "metadata": {
        "id": "_E3QTcngdaf-"
      },
      "execution_count": 3,
      "outputs": []
    },
    {
      "cell_type": "code",
      "source": [
        "# Ejecutamos el agente\n",
        "mensaje_input = \"¿Cuánto es 5+5?\"\n",
        "result = await run_agent(agent_matematico, mensaje_input)"
      ],
      "metadata": {
        "id": "5VgVQOUso9g0",
        "colab": {
          "base_uri": "https://localhost:8080/"
        },
        "outputId": "cf2d2b85-507d-422a-87a1-8a6272c026a6"
      },
      "execution_count": 4,
      "outputs": [
        {
          "output_type": "stream",
          "name": "stdout",
          "text": [
            "Input: ¿Cuánto es 5+5?\n",
            "Tool Call: sumar({\"b\":5,\"a\":5})\n",
            "Tool Output: 10\n",
            "Assistant: El resultado de 5 + 5 es 10.\n"
          ]
        }
      ]
    },
    {
      "cell_type": "markdown",
      "source": [
        "# Agente para reservas de hoteles\n",
        "\n",
        "1. Lee la base de datos de reservas `reservas_db`.\n",
        "\n",
        "\n",
        "2. Usa el agente para consultar si hay disponiblidad el 19 de Abril de 2025.\n",
        "\n",
        "\n",
        "3. Añade una nueva tool para crear reservas.\n",
        "\n",
        "  ```\n",
        "  def crear_reserva(fecha_entrada: date, fecha_salida: date, cliente: str) -> str:\n",
        "    # crear nueva reserva\n",
        "    ...\n",
        "    reservas_db.append(nueva_reserva)\n",
        "    return f\"La reserva ha sido creada con éxito\"\n",
        "  ```\n",
        "\n",
        "4. Añade la tool al Agente y instrucciones de cómo usarla.\n",
        "\n",
        "5. Prueba de añadir una reserva para el 25 de Marzo. Para mensajes consecutivos en una misma conversación, usa el siguiente código:\n",
        "\n",
        "  ```\n",
        "  mensaje_input = \"Mi nombre es Marco Gómez\"\n",
        "  conversation_history = result.to_input_list()\n",
        "  nuevo_input = conversation_history + [{\"role\": \"user\", \"content\": mensaje_input}]\n",
        "  ```\n",
        "\n",
        "\n",
        "6. Comprueba que la nueva reserva ha sido creada en `reservas_db`."
      ],
      "metadata": {
        "id": "Z2bmYGauhiCh"
      }
    },
    {
      "cell_type": "code",
      "source": [
        "from datetime import date\n",
        "\n",
        "# Definimos un estado inicial de disponibilidad de habitaciones\n",
        "reservas_db = [\n",
        "    {\"num_reserva\": 1, \"fecha_entrada\": date(2025, 4, 1), \"fecha_salida\": date(2025, 4, 5), \"cliente\": \"Juan Pérez\"},\n",
        "    {\"num_reserva\": 2, \"fecha_entrada\": date(2025, 4, 18), \"fecha_salida\": date(2025, 4, 20), \"cliente\": \"Pedro López\"},\n",
        "]"
      ],
      "metadata": {
        "id": "lIQ7kU08hiVE"
      },
      "execution_count": 5,
      "outputs": []
    },
    {
      "cell_type": "code",
      "source": [
        "@function_tool\n",
        "def consultar_reservas(fecha_entrada: date, fecha_salida: date) -> str:\n",
        "\n",
        "    for reserva in reservas_db:\n",
        "        # Verificar si hay solapamiento de fechas\n",
        "        if (fecha_entrada <= reserva[\"fecha_salida\"] and fecha_salida >= reserva[\"fecha_entrada\"]):\n",
        "            return f\"La habitación no está disponible entre las fechas {fecha_entrada} y {fecha_salida}\"\n",
        "\n",
        "    return f\"La habitación está disponible entre las fechas {fecha_entrada} y {fecha_salida}\"\n",
        "\n",
        "\n",
        "today = date.today()\n",
        "\n",
        "instructions = f\"\"\"Eres un asistente inteligente que gestiona reservas para el Hotel del Sol.\n",
        "El hotel tiene una sola habitación. Comprueba si hay disponibilidad para las fechas indicadas. Hoy es {today}.\n",
        "\"\"\"\n",
        "\n",
        "agente_reservas = Agent(\n",
        "    model=MODEL_NAME,\n",
        "    name=\"Reservas\",\n",
        "    instructions=instructions,\n",
        "    tools=[consultar_reservas],\n",
        ")"
      ],
      "metadata": {
        "id": "k3BQ07iGhkvx"
      },
      "execution_count": 6,
      "outputs": []
    },
    {
      "cell_type": "code",
      "source": [
        "# Ejecutamos el agente\n",
        "mensaje_input = \"Hola quería...\"\n",
        "result = await run_agent(agente_reservas, mensaje_input)"
      ],
      "metadata": {
        "colab": {
          "base_uri": "https://localhost:8080/"
        },
        "id": "1gYz6lNZhmZe",
        "outputId": "d8338284-763f-4cb9-eee1-1887ee1820d1"
      },
      "execution_count": 7,
      "outputs": [
        {
          "output_type": "stream",
          "name": "stdout",
          "text": [
            "Input: Hola quería...\n",
            "Assistant: ¿En qué puedo ayudarte?\n"
          ]
        }
      ]
    },
    {
      "cell_type": "code",
      "source": [
        "# 19 de Abril de 2025\n",
        "mensaje_input =  \"Hay disponiblidad el 19 de Abril de 2025?\"\n",
        "result = await run_agent(agente_reservas, mensaje_input)"
      ],
      "metadata": {
        "id": "431Z2o-rj2SP",
        "colab": {
          "base_uri": "https://localhost:8080/"
        },
        "outputId": "1291f183-dc07-423a-b872-32b61ed0965f"
      },
      "execution_count": 8,
      "outputs": [
        {
          "output_type": "stream",
          "name": "stdout",
          "text": [
            "Input: Hay disponiblidad el 19 de Abril de 2025?\n",
            "Assistant: ¿Cuántas noches te gustaría reservar?\n"
          ]
        }
      ]
    },
    {
      "cell_type": "code",
      "source": [
        "def crear_reserva(fecha_entrada: date, fecha_salida: date, cliente: str) -> str:\n",
        " nueva_reserva = [\n",
        "    {\"num_reserva\": 3, \"fecha_entrada\": date(2025, 4, 1), \"fecha_salida\": date(2025, 5, 5), \"cliente\": \"Ali C.\"},\n",
        "    {\"num_reserva\": 4, \"fecha_entrada\": date(2025, 5, 18), \"fecha_salida\": date(2025, 5, 20), \"cliente\": \"Laure M.\"},\n",
        "]\n",
        "\n",
        " reservas_db.append(nueva_reserva)\n",
        " return f\"La reserva ha sido creada con éxito\"\n",
        "\n",
        "today = date.today()\n",
        "\n",
        "instructions = f\"\"\"Eres un asistente inteligente que gestiona reservas para el Hotel del Sol.\n",
        "El hotel tiene una sola habitación. Comprueba si hay disponibilidad para las fechas indicadas. Hoy es {today}.\n",
        "\"\"\"\n",
        "\n",
        "agente_reservas = Agent(\n",
        "    model=MODEL_NAME,\n",
        "    name=\"Reservas\",\n",
        "    instructions=instructions,\n",
        "    tools=[consultar_reservas],\n",
        ")"
      ],
      "metadata": {
        "id": "Y_mhvCPS6kxZ"
      },
      "execution_count": 9,
      "outputs": []
    },
    {
      "cell_type": "markdown",
      "source": [
        "Prueba de añadir una reserva para el 25 de Marzo"
      ],
      "metadata": {
        "id": "GHOh0Xrw7b6j"
      }
    },
    {
      "cell_type": "code",
      "source": [
        "# Ejecutamos el agente\n",
        "mensaje_input = \"Hola quería hacer una reserva\"\n",
        "result = await run_agent(agente_reservas, mensaje_input)"
      ],
      "metadata": {
        "colab": {
          "base_uri": "https://localhost:8080/"
        },
        "id": "Hm1N75OO7Zc1",
        "outputId": "0ca0c090-8e37-4bc9-eacc-b78c3c662650"
      },
      "execution_count": 10,
      "outputs": [
        {
          "output_type": "stream",
          "name": "stdout",
          "text": [
            "Input: Hola quería hacer una reserva\n",
            "Assistant: Ok. ¿Cuáles son las fechas de entrada y salida deseadas?\n"
          ]
        }
      ]
    },
    {
      "cell_type": "code",
      "source": [
        "mensaje_input = \"El 25 de Marzo y serian tres noches\"\n",
        "result = await run_agent(agente_reservas, mensaje_input)"
      ],
      "metadata": {
        "colab": {
          "base_uri": "https://localhost:8080/"
        },
        "id": "S-xa1iSU86Z6",
        "outputId": "2970f14d-7e06-45a1-dd6a-5160ac8acae3"
      },
      "execution_count": 11,
      "outputs": [
        {
          "output_type": "stream",
          "name": "stdout",
          "text": [
            "Input: El 25 de Marzo y serian tres noches\n",
            "Tool Call: consultar_reservas({\"fecha_salida\":\"2025-03-28\",\"fecha_entrada\":\"2025-03-25\"})\n",
            "Tool Output: La habitación está disponible entre las fechas 2025-03-25 y 2025-03-28\n",
            "Assistant: Tenemos disponibilidad para esas fechas.\n"
          ]
        }
      ]
    },
    {
      "cell_type": "code",
      "source": [
        "mensaje_input = \"Del 2025\"\n",
        "result = await run_agent(agente_reservas, mensaje_input)"
      ],
      "metadata": {
        "colab": {
          "base_uri": "https://localhost:8080/"
        },
        "id": "PT78PEZZ9D0d",
        "outputId": "1455c7c7-1b01-443c-b6ba-341e82502335"
      },
      "execution_count": 12,
      "outputs": [
        {
          "output_type": "stream",
          "name": "stdout",
          "text": [
            "Input: Del 2025\n",
            "Assistant: Por favor, especifica las fechas de entrada y salida para las que quieres consultar la disponibilidad.\n"
          ]
        }
      ]
    },
    {
      "cell_type": "code",
      "source": [
        "mensaje_input = \"La fecha de entrada seria el 25 de Marzo del 2025 y la fecha de salida seria el 28 de Marzo del 2025\"\n",
        "result = await run_agent(agente_reservas, mensaje_input)"
      ],
      "metadata": {
        "colab": {
          "base_uri": "https://localhost:8080/"
        },
        "id": "YZFArsoa9Hww",
        "outputId": "5a34262a-8b65-4b5a-89c0-0058647f533f"
      },
      "execution_count": 13,
      "outputs": [
        {
          "output_type": "stream",
          "name": "stdout",
          "text": [
            "Input: La fecha de entrada seria el 25 de Marzo del 2025 y la fecha de salida seria el 28 de Marzo del 2025\n",
            "Tool Call: consultar_reservas({\"fecha_salida\":\"2025-03-28\",\"fecha_entrada\":\"2025-03-25\"})\n",
            "Tool Output: La habitación está disponible entre las fechas 2025-03-25 y 2025-03-28\n",
            "Assistant: La habitación está disponible entre el 25 y el 28 de Marzo.\n"
          ]
        }
      ]
    },
    {
      "cell_type": "code",
      "source": [
        "# MAKE CHANGES HERE *\n",
        "# Ejecutamos el agente\n",
        "mensaje_input = \"Mi nombre es Laure M. Quiero hacer una rserva para el 25 de Marzo. Cuatro dias y tres noches.\"\n",
        "conversation_history = result.to_input_list()\n",
        "nuevo_input = conversation_history + [{\"role\": \"user\", \"content\": mensaje_input}]"
      ],
      "metadata": {
        "id": "QGQ_ndhF7hW7"
      },
      "execution_count": 14,
      "outputs": []
    },
    {
      "cell_type": "markdown",
      "source": [
        "\n",
        "\n",
        "---\n",
        "\n"
      ],
      "metadata": {
        "id": "8ibWOwg0WU3b"
      }
    },
    {
      "cell_type": "code",
      "source": [
        "@function_tool\n",
        "def consultar_reservas(fecha_entrada: date, fecha_salida: date) -> str:\n",
        "\n",
        "    for reserva in reservas_db:\n",
        "        # Verificar si hay solapamiento de fechas\n",
        "        if (fecha_entrada <= reserva[\"fecha_salida\"] and fecha_salida >= reserva[\"fecha_entrada\"]):\n",
        "            return f\"La habitación no está disponible entre las fechas {fecha_entrada} y {fecha_salida}\"\n",
        "\n",
        "    return f\"La habitación está disponible entre las fechas {fecha_entrada} y {fecha_salida}\"\n",
        "\n",
        "@function_tool\n",
        "def crear_reserva(fecha_entrada: date, fecha_salida: date, cliente: str) -> str:\n",
        "        # Crear nueva reserva\n",
        "        nueva_reserva = {\n",
        "            \"num_reserva\": len(reservas_db) + 1,\n",
        "            \"fecha_entrada\": fecha_entrada,\n",
        "            \"fecha_salida\": fecha_salida,\n",
        "            \"cliente\": cliente\n",
        "        }\n",
        "        reservas_db.append(nueva_reserva)\n",
        "        return f\"La reserva ha sido creada con éxito\"\n",
        "\n",
        "\n",
        "today = date.today()\n",
        "\n",
        "instructions = f\"\"\"Eres un asistente inteligente que gestiona reservas para el Hotel del Sol.\n",
        "El hotel tiene una sola habitación.\n",
        "Cuando te pidan una reserva, primero comprueba si hay disponibilidad para las fechas indicadas. Hoy es {today}.\n",
        "Si no hay disponibilidad, devuelve un mensaje indicando que no hay habitaciones disponibles.\n",
        "Si hay disponibilidad, pide el numero de noches y el nombre del cliente para crear la reserva y devuelve confirmación de la reserva.\n",
        "\"\"\"\n",
        "\n",
        "# Definimos el agente\n",
        "agente_reservas = Agent(\n",
        "    model=MODEL_NAME,\n",
        "    name=\"Agente de Reservas\",\n",
        "    instructions=instructions,\n",
        "    tools=[consultar_reservas, crear_reserva],\n",
        ")"
      ],
      "metadata": {
        "id": "lF5ECTspWVit"
      },
      "execution_count": 15,
      "outputs": []
    },
    {
      "cell_type": "code",
      "source": [
        "# Ejecutamos el agente\n",
        "mensaje_input = \"Hola quería reservar una habitación para el 25 de Marzo\"\n",
        "result = await run_agent(agente_reservas, mensaje_input)"
      ],
      "metadata": {
        "colab": {
          "base_uri": "https://localhost:8080/"
        },
        "id": "I444og4YWWao",
        "outputId": "f56cf2c4-2e1c-44ac-a5a1-b526dfba0bdd"
      },
      "execution_count": 16,
      "outputs": [
        {
          "output_type": "stream",
          "name": "stdout",
          "text": [
            "Input: Hola quería reservar una habitación para el 25 de Marzo\n",
            "Assistant: ¿Para cuántas noches le gustaría reservar la habitación?\n"
          ]
        }
      ]
    },
    {
      "cell_type": "code",
      "source": [
        "# Ejecutamos el agente\n",
        "mensaje_input = \"Para 3 noches\"\n",
        "conversation_history = result.to_input_list()\n",
        "mensajes = conversation_history + [{\"role\": \"user\", \"content\": mensaje_input}]\n",
        "result = await run_agent(agente_reservas, mensajes)"
      ],
      "metadata": {
        "colab": {
          "base_uri": "https://localhost:8080/"
        },
        "id": "t94VOyT3WYoj",
        "outputId": "2f38013d-8021-4b6b-c561-b9e4a6b55afa"
      },
      "execution_count": 17,
      "outputs": [
        {
          "output_type": "stream",
          "name": "stdout",
          "text": [
            "Input: [{'content': 'Hola quería reservar una habitación para el 25 de Marzo', 'role': 'user'}, {'id': '__fake_id__', 'content': [{'annotations': [], 'text': '¿Para cuántas noches le gustaría reservar la habitación?\\n', 'type': 'output_text'}], 'role': 'assistant', 'status': 'completed', 'type': 'message'}, {'role': 'user', 'content': 'Para 3 noches'}]\n",
            "Assistant: ¿A nombre de quién hago la reserva?\n"
          ]
        }
      ]
    },
    {
      "cell_type": "code",
      "source": [
        "# Ejecutamos el agente\n",
        "mensaje_input = \"A nombre de Maria Pérez\"\n",
        "conversation_history = result.to_input_list()\n",
        "mensajes = conversation_history + [{\"role\": \"user\", \"content\": mensaje_input}]\n",
        "result = await run_agent(agente_reservas, mensajes)"
      ],
      "metadata": {
        "colab": {
          "base_uri": "https://localhost:8080/"
        },
        "id": "A9WYf1kBWagF",
        "outputId": "5193449f-d77d-4ed5-d8fa-72384e5a2eed"
      },
      "execution_count": 18,
      "outputs": [
        {
          "output_type": "stream",
          "name": "stdout",
          "text": [
            "Input: [{'content': 'Hola quería reservar una habitación para el 25 de Marzo', 'role': 'user'}, {'id': '__fake_id__', 'content': [{'annotations': [], 'text': '¿Para cuántas noches le gustaría reservar la habitación?\\n', 'type': 'output_text'}], 'role': 'assistant', 'status': 'completed', 'type': 'message'}, {'role': 'user', 'content': 'Para 3 noches'}, {'id': '__fake_id__', 'content': [{'annotations': [], 'text': '¿A nombre de quién hago la reserva?', 'type': 'output_text'}], 'role': 'assistant', 'status': 'completed', 'type': 'message'}, {'role': 'user', 'content': 'A nombre de Maria Pérez'}]\n",
            "Tool Call: crear_reserva({\"fecha_salida\":\"2025-03-28\",\"fecha_entrada\":\"2025-03-25\",\"cliente\":\"Maria Pérez\"})\n",
            "Tool Output: La reserva ha sido creada con éxito\n",
            "Assistant: ¡Perfecto, la reserva a nombre de Maria Pérez del 25 de Marzo al 28 de Marzo ha sido creada con éxito!\n"
          ]
        }
      ]
    },
    {
      "cell_type": "code",
      "source": [
        "# Comprobamos que la habitación 1 está reservada\n",
        "for reserva in reservas_db:\n",
        "    print(reserva)"
      ],
      "metadata": {
        "colab": {
          "base_uri": "https://localhost:8080/"
        },
        "id": "olf1yXjbWcX4",
        "outputId": "54409951-d381-481a-fe66-3e2df0e209da"
      },
      "execution_count": 19,
      "outputs": [
        {
          "output_type": "stream",
          "name": "stdout",
          "text": [
            "{'num_reserva': 1, 'fecha_entrada': datetime.date(2025, 4, 1), 'fecha_salida': datetime.date(2025, 4, 5), 'cliente': 'Juan Pérez'}\n",
            "{'num_reserva': 2, 'fecha_entrada': datetime.date(2025, 4, 18), 'fecha_salida': datetime.date(2025, 4, 20), 'cliente': 'Pedro López'}\n",
            "{'num_reserva': 3, 'fecha_entrada': datetime.date(2025, 3, 25), 'fecha_salida': datetime.date(2025, 3, 28), 'cliente': 'Maria Pérez'}\n"
          ]
        }
      ]
    },
    {
      "cell_type": "code",
      "source": [
        "# Prueba de reservar de nuevo con la misma fecha\n",
        "mensaje_input = \"Hola quería reservar una habitación para el 25 de Marzo por 2 noches\"\n",
        "result = await run_agent(agente_reservas, mensaje_input)"
      ],
      "metadata": {
        "colab": {
          "base_uri": "https://localhost:8080/"
        },
        "id": "EilRoqAzWeNF",
        "outputId": "95f0fa7f-149c-4857-c72c-5ac2b66f2104"
      },
      "execution_count": 20,
      "outputs": [
        {
          "output_type": "stream",
          "name": "stdout",
          "text": [
            "Input: Hola quería reservar una habitación para el 25 de Marzo por 2 noches\n",
            "Tool Call: consultar_reservas({\"fecha_salida\":\"2025-03-27\",\"fecha_entrada\":\"2025-03-25\"})\n",
            "Tool Output: La habitación no está disponible entre las fechas 2025-03-25 y 2025-03-27\n",
            "Assistant: No hay habitaciones disponibles para esas fechas.\n"
          ]
        }
      ]
    },
    {
      "cell_type": "code",
      "source": [
        "mensaje_input = \"Hola quería reservar una habitación para el 13 de Abril por 2 noches\"\n",
        "result = await run_agent(agente_reservas, mensaje_input)"
      ],
      "metadata": {
        "colab": {
          "base_uri": "https://localhost:8080/"
        },
        "id": "evqe9rUoWgGs",
        "outputId": "9dcb54e5-8b62-427c-d260-4b811b25ec72"
      },
      "execution_count": 21,
      "outputs": [
        {
          "output_type": "stream",
          "name": "stdout",
          "text": [
            "Input: Hola quería reservar una habitación para el 13 de Abril por 2 noches\n",
            "Tool Call: consultar_reservas({\"fecha_salida\":\"2025-04-15\",\"fecha_entrada\":\"2025-04-13\"})\n",
            "Tool Output: La habitación está disponible entre las fechas 2025-04-13 y 2025-04-15\n",
            "Assistant: La habitación está disponible. Por favor, dime tu nombre para completar la reserva.\n"
          ]
        }
      ]
    }
  ]
}